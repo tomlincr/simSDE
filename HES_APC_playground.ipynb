{
  "cells": [
    {
      "cell_type": "markdown",
      "metadata": {},
      "source": [
        "[![Open In Colab](https://colab.research.google.com/assets/colab-badge.svg)](https://colab.research.google.com/github/tomlincr/simSDE/blob/main/HES_APC_playground.ipynb)"
      ]
    },
    {
      "cell_type": "markdown",
      "metadata": {
        "id": "VYTPggdfTjvJ"
      },
      "source": [
        "# Notes\n",
        "1. Press 'Open In Colab' to run the notebook in Google Colab.\n",
        "2. DO NOT run the first two cells again, if you need to go to the menu `Runtime/Disconnect and delete runtime` and start again!"
      ]
    },
    {
      "cell_type": "markdown",
      "metadata": {
        "id": "dxi6GLwaLnXk"
      },
      "source": [
        "# Prepare PySpark environment (~2mins) - ONLY RUN ONCE!\n",
        "Based on this useful notebook, via Google search: https://colab.research.google.com/drive/1fa2G3YuXx3Isqyby5kFETqmWotFwtqlH#scrollTo=hxv7w_2y2bb9"
      ]
    },
    {
      "cell_type": "code",
      "execution_count": 1,
      "metadata": {
        "colab": {
          "base_uri": "https://localhost:8080/",
          "height": 847
        },
        "collapsed": true,
        "id": "MIPT4-LtLpxZ",
        "outputId": "e1141140-a3c4-4dd2-eb29-62133174533b"
      },
      "outputs": [
        {
          "name": "stdout",
          "output_type": "stream",
          "text": [
            "\u001b[33m\r0% [Working]\u001b[0m\r            \rGet:1 https://cloud.r-project.org/bin/linux/ubuntu jammy-cran40/ InRelease [3,626 B]\n",
            "\u001b[33m\r0% [Connecting to archive.ubuntu.com (185.125.190.39)] [Waiting for headers] [1\u001b[0m\u001b[33m\r0% [Connecting to archive.ubuntu.com (185.125.190.39)] [Waiting for headers] [C\u001b[0m\r                                                                               \rHit:2 https://developer.download.nvidia.com/compute/cuda/repos/ubuntu2204/x86_64  InRelease\n",
            "Get:3 http://security.ubuntu.com/ubuntu jammy-security InRelease [129 kB]\n",
            "Hit:4 http://archive.ubuntu.com/ubuntu jammy InRelease\n",
            "Get:5 http://archive.ubuntu.com/ubuntu jammy-updates InRelease [128 kB]\n",
            "Hit:6 https://ppa.launchpadcontent.net/c2d4u.team/c2d4u4.0+/ubuntu jammy InRelease\n",
            "Hit:7 https://ppa.launchpadcontent.net/deadsnakes/ppa/ubuntu jammy InRelease\n",
            "Get:8 http://archive.ubuntu.com/ubuntu jammy-backports InRelease [127 kB]\n",
            "Get:9 https://ppa.launchpadcontent.net/graphics-drivers/ppa/ubuntu jammy InRelease [24.3 kB]\n",
            "Hit:10 https://ppa.launchpadcontent.net/ubuntugis/ppa/ubuntu jammy InRelease\n",
            "Get:11 http://security.ubuntu.com/ubuntu jammy-security/universe amd64 Packages [1,084 kB]\n",
            "Get:12 http://archive.ubuntu.com/ubuntu jammy-updates/universe amd64 Packages [1,377 kB]\n",
            "Get:13 http://archive.ubuntu.com/ubuntu jammy-updates/main amd64 Packages [2,129 kB]\n",
            "Get:14 http://security.ubuntu.com/ubuntu jammy-security/main amd64 Packages [1,858 kB]\n",
            "Get:15 https://ppa.launchpadcontent.net/graphics-drivers/ppa/ubuntu jammy/main amd64 Packages [47.6 kB]\n",
            "Fetched 6,907 kB in 3s (2,335 kB/s)\n",
            "Reading package lists... Done\n",
            "Building dependency tree... Done\n",
            "Reading state information... Done\n",
            "51 packages can be upgraded. Run 'apt list --upgradable' to see them.\n",
            "tar: spark-3.2.1-bin-hadoop3.2.tgz: Cannot open: No such file or directory\n",
            "tar: Error is not recoverable: exiting now\n",
            "Collecting pyspark\n",
            "  Downloading pyspark-3.5.1.tar.gz (317.0 MB)\n",
            "\u001b[2K     \u001b[90m━━━━━━━━━━━━━━━━━━━━━━━━━━━━━━━━━━━━━━━━\u001b[0m \u001b[32m317.0/317.0 MB\u001b[0m \u001b[31m3.6 MB/s\u001b[0m eta \u001b[36m0:00:00\u001b[0m\n",
            "\u001b[?25h  Preparing metadata (setup.py) ... \u001b[?25l\u001b[?25hdone\n",
            "Requirement already satisfied: py4j==0.10.9.7 in /usr/local/lib/python3.10/dist-packages (from pyspark) (0.10.9.7)\n",
            "Building wheels for collected packages: pyspark\n",
            "  Building wheel for pyspark (setup.py) ... \u001b[?25l\u001b[?25hdone\n",
            "  Created wheel for pyspark: filename=pyspark-3.5.1-py2.py3-none-any.whl size=317488491 sha256=696d9d9ef09aabde9d2afa25d848675a2e8331a04e39a46986f6e248b89b0db0\n",
            "  Stored in directory: /root/.cache/pip/wheels/80/1d/60/2c256ed38dddce2fdd93be545214a63e02fbd8d74fb0b7f3a6\n",
            "Successfully built pyspark\n",
            "Installing collected packages: pyspark\n",
            "Successfully installed pyspark-3.5.1\n",
            "Requirement already satisfied: py4j in /usr/local/lib/python3.10/dist-packages (0.10.9.7)\n"
          ]
        },
        {
          "data": {
            "text/html": [
              "\n",
              "            <div>\n",
              "                <p><b>SparkSession - in-memory</b></p>\n",
              "                \n",
              "        <div>\n",
              "            <p><b>SparkContext</b></p>\n",
              "\n",
              "            <p><a href=\"http://94b88ad732b6:4040\">Spark UI</a></p>\n",
              "\n",
              "            <dl>\n",
              "              <dt>Version</dt>\n",
              "                <dd><code>v3.5.1</code></dd>\n",
              "              <dt>Master</dt>\n",
              "                <dd><code>local[*]</code></dd>\n",
              "              <dt>AppName</dt>\n",
              "                <dd><code>SDE Simulator</code></dd>\n",
              "            </dl>\n",
              "        </div>\n",
              "        \n",
              "            </div>\n",
              "        "
            ],
            "text/plain": [
              "<pyspark.sql.session.SparkSession at 0x7e51c4103100>"
            ]
          },
          "execution_count": 1,
          "metadata": {},
          "output_type": "execute_result"
        }
      ],
      "source": [
        "!sudo apt update\n",
        "!apt-get install openjdk-8-jdk-headless -qq > /dev/null\n",
        "# TODO: check Spark version matches SDE\n",
        "#Check this site for the latest download link https://www.apache.org/dyn/closer.lua/spark/spark-3.2.1/spark-3.2.1-bin-hadoop3.2.tgz\n",
        "!wget -q https://dlcdn.apache.org/spark/spark-3.2.1/spark-3.2.1-bin-hadoop3.2.tgz\n",
        "!tar xf spark-3.2.1-bin-hadoop3.2.tgz\n",
        "!pip install -q findspark\n",
        "!pip install pyspark\n",
        "!pip install py4j\n",
        "\n",
        "import findspark\n",
        "import pyspark\n",
        "from pyspark.sql import SparkSession\n",
        "\n",
        "findspark.init()\n",
        "findspark.find()\n",
        "\n",
        "spark= SparkSession \\\n",
        "       .builder \\\n",
        "       .appName(\"SDE Simulator\") \\\n",
        "       .getOrCreate()\n",
        "\n",
        "spark"
      ]
    },
    {
      "cell_type": "markdown",
      "metadata": {
        "id": "8Z6IIWMhLakx"
      },
      "source": [
        "# Load small extract of synthetic HES APC data (~2 mins) - ONLY RUN ONCE!\n",
        "1. Dataset is 'Artificial HES Admitted Patient Care sample' from: https://digital.nhs.uk/services/artificial-data\n",
        "  * We just use the last 3 financial years data for speed (19-20, 20-21, 21-22)\n",
        "  * We will load these into a spark table called `hes_apc`\n",
        "2. Data dictionary is available here: https://digital.nhs.uk/data-and-information/data-tools-and-services/data-services/hospital-episode-statistics/hospital-episode-statistics-data-dictionary\n"
      ]
    },
    {
      "cell_type": "code",
      "execution_count": 2,
      "metadata": {
        "colab": {
          "base_uri": "https://localhost:8080/"
        },
        "id": "CaWSHWfS12WH",
        "outputId": "192d570c-e748-4c52-9cbe-f041d5fe2d01"
      },
      "outputs": [
        {
          "name": "stdout",
          "output_type": "stream",
          "text": [
            "Loading: artificial_hes_apc_202302_v1_sample/artificial_hes_apc_1920.csv\n"
          ]
        },
        {
          "name": "stderr",
          "output_type": "stream",
          "text": [
            "<ipython-input-2-014a31f5196b>:17: DtypeWarning: Columns (91,114,139) have mixed types. Specify dtype option on import or set low_memory=False.\n",
            "  dfs.append(pd.read_csv(z.open(f.filename)))\n"
          ]
        },
        {
          "name": "stdout",
          "output_type": "stream",
          "text": [
            "Loading: artificial_hes_apc_202302_v1_sample/artificial_hes_apc_2021.csv\n"
          ]
        },
        {
          "name": "stderr",
          "output_type": "stream",
          "text": [
            "<ipython-input-2-014a31f5196b>:17: DtypeWarning: Columns (117,142,176) have mixed types. Specify dtype option on import or set low_memory=False.\n",
            "  dfs.append(pd.read_csv(z.open(f.filename)))\n"
          ]
        },
        {
          "name": "stdout",
          "output_type": "stream",
          "text": [
            "Loading: artificial_hes_apc_202302_v1_sample/artificial_hes_apc_2122.csv\n"
          ]
        },
        {
          "name": "stderr",
          "output_type": "stream",
          "text": [
            "<ipython-input-2-014a31f5196b>:17: DtypeWarning: Columns (116,141,176) have mixed types. Specify dtype option on import or set low_memory=False.\n",
            "  dfs.append(pd.read_csv(z.open(f.filename)))\n"
          ]
        },
        {
          "name": "stdout",
          "output_type": "stream",
          "text": [
            "Loaded: 30000 rows\n",
            "Loading into Spark table hes_apc\n",
            "Complete! Spark table hes_apc completed\n"
          ]
        }
      ],
      "source": [
        "import requests\n",
        "import zipfile\n",
        "import io\n",
        "import pandas as pd\n",
        "\n",
        "# TODO: try to open locally, if not found download\n",
        "url = 'https://files.digital.nhs.uk/assets/Services/Artificial%20data/Artificial%20HES%20final/artificial_hes_apc_202302_v1_sample.zip'\n",
        "r = requests.get(url)\n",
        "\n",
        "z = zipfile.ZipFile(io.BytesIO(r.content))\n",
        "z.extractall()\n",
        "\n",
        "dfs = []\n",
        "# NOTE: limit to last 3 financial years for speed\n",
        "for f in z.filelist[-5:-2]:\n",
        "    if f.filename.endswith('.csv'):\n",
        "        print(f'Loading: {f.filename}')\n",
        "        dfs.append(pd.read_csv(z.open(f.filename)))\n",
        "df = pd.concat(dfs)\n",
        "\n",
        "print(f\"Loaded: {df.shape[0]} rows\")\n",
        "\n",
        "print(\"Loading into Spark table hes_apc\")\n",
        "# For 30k rows (3 FYs) takes ~ 1 min\n",
        "df = spark.createDataFrame(df)\n",
        "df.createOrReplaceTempView(\"hes_apc\")\n",
        "# df.write.mode(\"overwrite\").saveAsTable(\"hes_apc\")\n",
        "\n",
        "print(\"Complete! Spark table hes_apc completed\")\n",
        "\n",
        "del(df)"
      ]
    },
    {
      "cell_type": "markdown",
      "metadata": {
        "id": "h45UjMu_OHGA"
      },
      "source": [
        "# Example queries\n",
        "We can run ~standard SQL (actually Spark SQL, but very similar) by wrapping our query as follows:   \n",
        "```py\n",
        "spark.sql(\"\"\"\n",
        "<SQL QUERY GOES HERE>\n",
        "\"\"\").show()\n",
        "```\n",
        "\n",
        "The alternative is to use PySpark (a python API for Spark).  \n",
        "\n",
        "See below for some examples of both"
      ]
    },
    {
      "cell_type": "code",
      "execution_count": 3,
      "metadata": {
        "colab": {
          "base_uri": "https://localhost:8080/"
        },
        "id": "HGBRnNoPUHaa",
        "outputId": "0645afe7-34c6-45d9-afb7-0dc483ad6175"
      },
      "outputs": [
        {
          "name": "stdout",
          "output_type": "stream",
          "text": [
            "+-----+--------+------------+------------+--------------------+----------+--------+--------+----------+--------+---------+-------+--------------+------------+------------+------+------+-------+-------+---------------+-------------+------------------+-------------------------+-------------+--------------------+--------+--------------+------------+------------+---------+---------+---------+---------+---------+---------+---------+---------+---------+---------+---------+---------+---------+---------+---------+---------+---------+---------+---------+---------+-------------------+---------+---------+---------+---------+---------+---------+---------+---------+---------+---------+---------+---------+---------+---------+---------+---------+---------+---------+---------+---------+--------------------+----------+----------+-------+-------+----------+-------+------------+------+----------+--------+----------+-------+-------+------+---+-------------+---+---+--------+------+--------+-----+------+-----------+-----------+-----------+-----------+-----------+-----------+-----------+-----------+-----------+-----------+-----------+-----------+-----------+-----------+-----------+-----------+-----------+-----------+-----------+-----------+-----------+-----------+-----------+-----------+---------------+-----------+-----------+-----------+-----------+-----------+-----------+-----------+-----------+-----------+-----------+-----------+-----------+-----------+-----------+-----------+-----------+-----------+-----------+-----------+-----------+-----------+-----------+-----------+-----------+---------------+------------+----+---------+-----------+-----------+--------+--------+--------+--------+-------+----------+------+----------+------+----------+--------+------------+----------+-----------+---+--------+---------+---------+--------+-------+------------+-------+--------+-----------------+--------+------+--------------+--------+---------+---------+--------+-----------------+----------+------------------+----------+--------+-------------+--------+-------------+-----+---------+---------------+-------------+-------------+\n",
            "|FYEAR|PARTYEAR|      EPIKEY|       AEKEY|        PSEUDO_HESID|  ADMIDATE|ADMIMETH|ADMINCAT|ADMINCATST|ADMISORC|ALCDIAG_4|ALCFRAC|AT_GP_PRACTICE|AT_RESIDENCE|AT_TREATMENT|CANNET|CANREG|CAUSE_3|CAUSE_4|CCG_GP_PRACTICE|CCG_RESIDENCE|CCG_RESPONSIBILITY|CCG_RESPONSIBILITY_ORIGIN|CCG_TREATMENT|CCG_TREATMENT_ORIGIN|CLASSPAT|CR_GP_PRACTICE|CR_RESIDENCE|CR_TREATMENT|DIAG_3_01|DIAG_3_02|DIAG_3_03|DIAG_3_04|DIAG_3_05|DIAG_3_06|DIAG_3_07|DIAG_3_08|DIAG_3_09|DIAG_3_10|DIAG_3_11|DIAG_3_12|DIAG_3_13|DIAG_3_14|DIAG_3_15|DIAG_3_16|DIAG_3_17|DIAG_3_18|DIAG_3_19|DIAG_3_20|      DIAG_3_CONCAT|DIAG_4_01|DIAG_4_02|DIAG_4_03|DIAG_4_04|DIAG_4_05|DIAG_4_06|DIAG_4_07|DIAG_4_08|DIAG_4_09|DIAG_4_10|DIAG_4_11|DIAG_4_12|DIAG_4_13|DIAG_4_14|DIAG_4_15|DIAG_4_16|DIAG_4_17|DIAG_4_18|DIAG_4_19|DIAG_4_20|       DIAG_4_CONCAT|DIAG_COUNT|   DISDATE|DISDEST|DISMETH|  ELECDATE|ELECDUR|ELECDUR_CALC|EPIDUR|    EPIEND|EPIORDER|  EPISTART|EPISTAT|EPITYPE|ETHNOS|FAE|FAE_EMERGENCY|FCE|FDE|GORTREAT|GPPRAC|MAINSPEF|MYDOB|NEODUR|OPERTN_3_01|OPERTN_3_02|OPERTN_3_03|OPERTN_3_04|OPERTN_3_05|OPERTN_3_06|OPERTN_3_07|OPERTN_3_08|OPERTN_3_09|OPERTN_3_10|OPERTN_3_11|OPERTN_3_12|OPERTN_3_13|OPERTN_3_14|OPERTN_3_15|OPERTN_3_16|OPERTN_3_17|OPERTN_3_18|OPERTN_3_19|OPERTN_3_20|OPERTN_3_21|OPERTN_3_22|OPERTN_3_23|OPERTN_3_24|OPERTN_3_CONCAT|OPERTN_4_01|OPERTN_4_02|OPERTN_4_03|OPERTN_4_04|OPERTN_4_05|OPERTN_4_06|OPERTN_4_07|OPERTN_4_08|OPERTN_4_09|OPERTN_4_10|OPERTN_4_11|OPERTN_4_12|OPERTN_4_13|OPERTN_4_14|OPERTN_4_15|OPERTN_4_16|OPERTN_4_17|OPERTN_4_18|OPERTN_4_19|OPERTN_4_20|OPERTN_4_21|OPERTN_4_22|OPERTN_4_23|OPERTN_4_24|OPERTN_4_CONCAT|OPERTN_COUNT|PCON| PCON_ONS|PCTCODE_HIS|PCTORIG_HIS|PCTTREAT|PROCODE3|PROCODE5|PROCODET|PURCODE|RANK_ORDER|RESCTY|RESCTY_ONS|RESGOR|RESGOR_ONS|RESLADST|RESLADST_ONS|RESPCT_HIS|RESSTHA_HIS|SEX|SITETRET|   LSOA01|   MSOA01|SPELBGIN|SPELDUR|SPELDUR_CALC|SPELEND|STARTAGE|    STARTAGE_CALC|STHATRET|SUSHRG|      SUSRECID|TRETSPEF|   LSOA11|   MSOA11|WAITLIST|       ALCNRWFRAC|ALCNRWDIAG|        ALCBRDFRAC|ALCBRDDIAG|SITEDIST|SITEDIST_FLAG|PROVDIST|PROVDIST_FLAG|HRG40|HRGLATE35|NER_GP_PRACTICE|NER_RESIDENCE|NER_TREATMENT|\n",
            "+-----+--------+------------+------------+--------------------+----------+--------+--------+----------+--------+---------+-------+--------------+------------+------------+------+------+-------+-------+---------------+-------------+------------------+-------------------------+-------------+--------------------+--------+--------------+------------+------------+---------+---------+---------+---------+---------+---------+---------+---------+---------+---------+---------+---------+---------+---------+---------+---------+---------+---------+---------+---------+-------------------+---------+---------+---------+---------+---------+---------+---------+---------+---------+---------+---------+---------+---------+---------+---------+---------+---------+---------+---------+---------+--------------------+----------+----------+-------+-------+----------+-------+------------+------+----------+--------+----------+-------+-------+------+---+-------------+---+---+--------+------+--------+-----+------+-----------+-----------+-----------+-----------+-----------+-----------+-----------+-----------+-----------+-----------+-----------+-----------+-----------+-----------+-----------+-----------+-----------+-----------+-----------+-----------+-----------+-----------+-----------+-----------+---------------+-----------+-----------+-----------+-----------+-----------+-----------+-----------+-----------+-----------+-----------+-----------+-----------+-----------+-----------+-----------+-----------+-----------+-----------+-----------+-----------+-----------+-----------+-----------+-----------+---------------+------------+----+---------+-----------+-----------+--------+--------+--------+--------+-------+----------+------+----------+------+----------+--------+------------+----------+-----------+---+--------+---------+---------+--------+-------+------------+-------+--------+-----------------+--------+------+--------------+--------+---------+---------+--------+-----------------+----------+------------------+----------+--------+-------------+--------+-------------+-----+---------+---------------+-------------+-------------+\n",
            "| 1920|  201999|504388139940|152552384341|TESTZRwtE0goeghAr...|2019-05-26|      13|       1|       NaN|      19|      NaN|    0.0|           Q57|         Q59|         Q45|   N21| Y0801|    NaN|   W441|            12F|          15E|               02M|                        2|          15C|                   1|       1|           Y59|         Y56|         Y59|      H26|      NaN|      NaN|      M40|      Z92|      NaN|      NaN|      NaN|      C77|      NaN|      NaN|      NaN|      NaN|      NaN|      NaN|      NaN|      NaN|      NaN|      NaN|      NaN|    H26,M40,Z92,C77|     H269|      NaN|      NaN|     M402|     Z922|      NaN|      NaN|      NaN|     C775|      NaN|      NaN|      NaN|      NaN|      NaN|      NaN|      NaN|      NaN|      NaN|      NaN|      NaN| H269,M402,Z922,C775|         4|2020-03-17|     19|      8|1801-01-01|      9|          18|     0|2019-05-26|       1|2019-05-26|      3|      1|     C|  1|            0|  1|  0|       K|N84013|   300.0|31958|   NaN|        X40|        NaN|        Z94|        NaN|        NaN|        NaN|        NaN|        NaN|        NaN|        NaN|        NaN|        NaN|        NaN|        NaN|        NaN|        NaN|        NaN|        NaN|        NaN|        NaN|        NaN|        NaN|        NaN|        NaN|        X40,Z94|       X403|        NaN|       Z942|        NaN|        NaN|        NaN|        NaN|        NaN|        NaN|        NaN|        NaN|        NaN|        NaN|        NaN|        NaN|        NaN|        NaN|        NaN|        NaN|        NaN|        NaN|        NaN|        NaN|        NaN|      X403,Z942|         2.0| B49|E14000881|        5QK|          1|     5KL|     RCF|   RHQ00|     RTF|  15E00|       2.0|    00| E10000015|     D| E12000008|    00BP|   E08000007|       5A9|        Q32|  2|   RWY02|E01006068|E02006405|     0.0|      0|           1|      Y|    61.0|61.38082191780822|     Q36| HT63D|23628431167094|     301|E01013910|E02005037|       1|0.051445332704539|       NaN|               0.0|       E11|    5.84|          5.0|   12.72|          3.0|  NaN|      NaN|            Q71|          Q83|          Q83|\n",
            "| 1920|  201999|  7130540364|569660748019|TEST1z1XhqAwS7Ue4...|2019-07-29|      82|       1|       NaN|      19|     F101|    0.3|           Q71|         Q54|         Q47|   N26| Y1701|    NaN|    NaN|            15D|          14Y|               07N|                        1|          10X|                   1|       1|           Y59|         Y60|         Y59|      O36|      NaN|      P08|      NaN|      Z85|      NaN|      NaN|      NaN|      NaN|      NaN|      NaN|      NaN|      NaN|      NaN|      I20|      NaN|      NaN|      NaN|      NaN|      NaN|    O36,P08,Z85,I20|     O368|      NaN|     P081|      NaN|     Z850|      NaN|      NaN|      NaN|      NaN|      NaN|      NaN|      NaN|      NaN|      NaN|     I209|      NaN|      NaN|      NaN|      NaN|      NaN| O368,P081,Z850,I209|         4|2019-07-29|     19|      1|1801-01-01|     48|         260|     1|2019-07-29|       1|2019-07-29|      3|      1|     A|  1|            0|  1|  1|       K|     &|   330.0|92013|   NaN|        -  |        NaN|        NaN|        NaN|        NaN|        NaN|        NaN|        NaN|        NaN|        NaN|        NaN|        NaN|        NaN|        NaN|        NaN|        NaN|        NaN|        NaN|        NaN|        NaN|        NaN|        NaN|        NaN|        NaN|            -  |       -   |        NaN|        NaN|        NaN|        NaN|        NaN|        NaN|        NaN|        NaN|        NaN|        NaN|        NaN|        NaN|        NaN|        NaN|        NaN|        NaN|        NaN|        NaN|        NaN|        NaN|        NaN|        NaN|        NaN|           -   |         NaN| B35|E14000580|        5PG|          1|     5NP|     R0A|   RJR00|     RYJ|    02F|       1.0|    24| E99999999|     G| E12000007|    00MF|   E08000030|       5NL|        Q34|  1|   RDU50|E01028737|E02003099|     2.0|      0|           1|      Y|     6.0|6.397260273972603|     Q35| LA97A|28536343048429|     300|E01026906|E02002684|       0|              0.0|       NaN|               0.0|       I10|   38.92|          5.0|   34.03|          3.0|  NaN|      NaN|            Q83|          Q75|          Q74|\n",
            "| 1920|  201999|678662260231|827240478850|TEST1z1XhqAwS7Ue4...|1801-01-01|      13|       1|       NaN|      19|      NaN|    0.0|           Q64|         Q70|         Q60|   N25| Y1001|    NaN|    NaN|            15E|          06Y|               08K|                        1|          06H|                   1|       1|           Y58|         Y60|         Y63|      J22|      K76|      I10|      NaN|      NaN|      I25|      NaN|      NaN|      NaN|      NaN|      NaN|      NaN|      NaN|      NaN|      NaN|      NaN|      NaN|      NaN|      NaN|      NaN|    J22,K76,I10,I25|     J22X|     K760|     I10X|      NaN|      NaN|     I252|      NaN|      NaN|      NaN|      NaN|      NaN|      NaN|      NaN|      NaN|      NaN|      NaN|      NaN|      NaN|      NaN|      NaN| J22X,K760,I10X,I252|         4|1801-01-01|     19|      1|1801-01-01|     11|          22|     0|1801-01-01|       1|1801-01-01|      3|      1|     A|  1|            1|  1|  0|       H|F81212|   420.0|92013|   NaN|        A73|        NaN|        NaN|        Y75|        NaN|        NaN|        NaN|        NaN|        NaN|        NaN|        NaN|        NaN|        NaN|        NaN|        NaN|        NaN|        NaN|        NaN|        NaN|        NaN|        NaN|        NaN|        NaN|        NaN|        A73,Y75|       A735|        NaN|        NaN|       Y752|        NaN|        NaN|        NaN|        NaN|        NaN|        NaN|        NaN|        NaN|        NaN|        NaN|        NaN|        NaN|        NaN|        NaN|        NaN|        NaN|        NaN|        NaN|        NaN|        NaN|      A735,Y752|         2.0| D91|E14000850|        5ET|          1|     5PV|     RWD|   RDZ00|   RJ1-X|    99C|       NaN|    33| E10000025|     J| E12000003|    21UG|   E07000130|       5NT|        Q39|  1|   RGT01|E01024509|E02001858|     2.0|      1|           0|      Y|     7.0| 6.52054794520548|     Q32| FD01J|62837261482056|     300|      NaN|E02005637|       1|              0.0|       I48| 0.370818346131764|       Y08|    11.2|          5.0|   11.51|          3.0|  NaN|      NaN|            Q85|          Q79|          Q77|\n",
            "| 1920|  201999|138477259271|962859710632|TEST1z1XhqAwS7Ue4...|2019-04-03|      21|       1|       NaN|      19|      NaN|    0.0|           Q52|         Q64|         Q71|   N24| Y1701|    NaN|    NaN|            05T|          12D|               05C|                        1|          11N|                   1|       1|           Y58|         Y61|         Y60|      N39|      W19|      NaN|      Z96|      NaN|      NaN|      NaN|      NaN|      G71|      NaN|      NaN|      NaN|      NaN|      NaN|      NaN|      NaN|      NaN|      NaN|      NaN|      NaN|    N39,W19,Z96,G71|     N390|     W190|      NaN|     Z966|      NaN|      NaN|      NaN|      NaN|     G711|      NaN|      NaN|      NaN|      NaN|      NaN|      NaN|      NaN|      NaN|      NaN|      NaN|      NaN| N390,W190,Z966,G711|         4|2020-01-06|     19|      1|1801-01-01|     15|          22|     3|2019-09-24|       1|2019-09-24|      3|      1|     A|  0|            0|  1|  1|       F|G84627|   145.0|92013|   NaN|        -  |        Y98|        NaN|        NaN|        NaN|        NaN|        NaN|        NaN|        NaN|        NaN|        NaN|        NaN|        NaN|        NaN|        NaN|        NaN|        NaN|        NaN|        NaN|        NaN|        NaN|        NaN|        NaN|        NaN|        -  ,Y98|       -   |       Y981|        NaN|        NaN|        NaN|        NaN|        NaN|        NaN|        NaN|        NaN|        NaN|        NaN|        NaN|        NaN|        NaN|        NaN|        NaN|        NaN|        NaN|        NaN|        NaN|        NaN|        NaN|        NaN|      -   ,Y981|         1.0| E27|E14000726|        5QA|          1|     5C4|     RTH|   RBD01|     RP4|    01X|       1.0|    00| E99999999|     J| E12000009|    23UC|   E06000043|       5LF|        Q33|  1|   RTD02|E01016046|E02005064|     2.0|      0|           5|      Y|     6.0|5.589041095890411|     Q31| SB97Z|20140239489214|     110|E01029150|E02006711|       0|0.075985256030597|       NaN|               0.0|       NaN|    2.79|          5.0|    3.59|          3.0|  NaN|      NaN|            Q71|          Q75|          Q72|\n",
            "| 1920|  201999|162834725211|240713354320|TESTfUBM4nYW1yVeo...|2019-05-06|      11|       1|       NaN|      19|      NaN|    0.0|           Q64|         Q45|         Q71|   N24| Y1701|    NaN|    NaN|            01X|          06H|               11M|                        1|          01Y|                   1|       1|           Y60|         Y62|         Y62|      Q38|      C79|      G04|      NaN|      NaN|      NaN|      NaN|      NaN|      I25|      D64|      NaN|      NaN|      NaN|      NaN|      NaN|      NaN|      NaN|      NaN|      NaN|      NaN|Q38,C79,G04,I25,D64|     Q381|     C795|     G049|      NaN|      NaN|      NaN|      NaN|      NaN|     I252|     D649|      NaN|      NaN|      NaN|      NaN|      NaN|      NaN|      NaN|      NaN|      NaN|      NaN|Q381,C795,G049,I2...|         5|2019-05-06|     19|      1|2019-05-06|     27|          66|     0|2019-05-06|       1|2019-05-06|      3|      1|     H|  1|            0|  1|  0|       K|P92607|   502.0|82017|   NaN|        U19|        Y97|        NaN|        NaN|        NaN|        NaN|        NaN|        NaN|        NaN|        NaN|        NaN|        NaN|        NaN|        NaN|        NaN|        NaN|        NaN|        NaN|        NaN|        NaN|        NaN|        NaN|        NaN|        NaN|        U19,Y97|       U191|       Y973|        NaN|        NaN|        NaN|        NaN|        NaN|        NaN|        NaN|        NaN|        NaN|        NaN|        NaN|        NaN|        NaN|        NaN|        NaN|        NaN|        NaN|        NaN|        NaN|        NaN|        NaN|        NaN|      U191,Y973|         2.0| A84|E14001012|        5PE|          1|     5NT|     RAL|   RH500|     RMP|  14Y00|       NaN|    00| E99999999|     G| E12000002|    00FY|   E09000031|       5A3|        Q32|  1|   RXF05|E01003197|E02004277|     2.0|      0|           1|      Y|     2.0|1.789041095890411|     Q35| WH50B|66170716406224|     300|E01022924|E02001425|       0|0.130615035773193|       NaN|-0.016579270090229|       W18|   35.21|          5.0|    9.56|          3.0|  NaN|      NaN|            Q72|          Q74|          Q88|\n",
            "+-----+--------+------------+------------+--------------------+----------+--------+--------+----------+--------+---------+-------+--------------+------------+------------+------+------+-------+-------+---------------+-------------+------------------+-------------------------+-------------+--------------------+--------+--------------+------------+------------+---------+---------+---------+---------+---------+---------+---------+---------+---------+---------+---------+---------+---------+---------+---------+---------+---------+---------+---------+---------+-------------------+---------+---------+---------+---------+---------+---------+---------+---------+---------+---------+---------+---------+---------+---------+---------+---------+---------+---------+---------+---------+--------------------+----------+----------+-------+-------+----------+-------+------------+------+----------+--------+----------+-------+-------+------+---+-------------+---+---+--------+------+--------+-----+------+-----------+-----------+-----------+-----------+-----------+-----------+-----------+-----------+-----------+-----------+-----------+-----------+-----------+-----------+-----------+-----------+-----------+-----------+-----------+-----------+-----------+-----------+-----------+-----------+---------------+-----------+-----------+-----------+-----------+-----------+-----------+-----------+-----------+-----------+-----------+-----------+-----------+-----------+-----------+-----------+-----------+-----------+-----------+-----------+-----------+-----------+-----------+-----------+-----------+---------------+------------+----+---------+-----------+-----------+--------+--------+--------+--------+-------+----------+------+----------+------+----------+--------+------------+----------+-----------+---+--------+---------+---------+--------+-------+------------+-------+--------+-----------------+--------+------+--------------+--------+---------+---------+--------+-----------------+----------+------------------+----------+--------+-------------+--------+-------------+-----+---------+---------------+-------------+-------------+\n",
            "\n"
          ]
        }
      ],
      "source": [
        "spark.sql(\"\"\"\n",
        "SELECT * FROM hes_apc LIMIT 5\n",
        "\"\"\").show()"
      ]
    },
    {
      "cell_type": "code",
      "execution_count": 4,
      "metadata": {
        "colab": {
          "base_uri": "https://localhost:8080/"
        },
        "id": "k0hvoEHEOI1a",
        "outputId": "be024ea5-0cea-45ac-e210-ec792f8adef8"
      },
      "outputs": [
        {
          "name": "stdout",
          "output_type": "stream",
          "text": [
            "+-----+-----+\n",
            "|    n|  ids|\n",
            "+-----+-----+\n",
            "|30000|13934|\n",
            "+-----+-----+\n",
            "\n"
          ]
        }
      ],
      "source": [
        "spark.sql(\"\"\"\n",
        "SELECT\n",
        "  COUNT(*) as n,\n",
        "  COUNT(DISTINCT PSEUDO_HESID) as ids\n",
        "FROM\n",
        "  hes_apc\n",
        "\"\"\").show()"
      ]
    },
    {
      "cell_type": "code",
      "execution_count": 8,
      "metadata": {
        "colab": {
          "base_uri": "https://localhost:8080/"
        },
        "id": "mNfI4t9V0BMB",
        "outputId": "24a4d500-4b95-4683-94dc-ffd9b5a36487"
      },
      "outputs": [
        {
          "name": "stdout",
          "output_type": "stream",
          "text": [
            "+-----+-----+\n",
            "|    n|  ids|\n",
            "+-----+-----+\n",
            "|30000|13934|\n",
            "+-----+-----+\n",
            "\n"
          ]
        }
      ],
      "source": [
        "# import all 'SQL' like functions, e.g. count\n",
        "import pyspark.sql.functions as F\n",
        "\n",
        "# Pull the table into a pyspark dataframe\n",
        "df = spark.table('hes_apc')\n",
        "\n",
        "df \\\n",
        ".select(\n",
        "    F.count(\"*\").alias(\"n\"),\n",
        "    F.countDistinct(\"PSEUDO_HESID\").alias(\"ids\")\n",
        "    ) \\\n",
        ".show()"
      ]
    },
    {
      "cell_type": "markdown",
      "metadata": {
        "id": "x19hapexVESi"
      },
      "source": [
        "# COVID example"
      ]
    },
    {
      "cell_type": "code",
      "execution_count": 9,
      "metadata": {
        "colab": {
          "base_uri": "https://localhost:8080/"
        },
        "id": "oKjLOogmUNK6",
        "outputId": "443695ce-a194-4e5e-d140-d0797555be62"
      },
      "outputs": [
        {
          "name": "stdout",
          "output_type": "stream",
          "text": [
            "+-----------------------+-----------------------+---------+\n",
            "|covid_confirmed_primary|covid_suspected_primary|covid_any|\n",
            "+-----------------------+-----------------------+---------+\n",
            "|                    343|                     26|      525|\n",
            "+-----------------------+-----------------------+---------+\n",
            "\n"
          ]
        }
      ],
      "source": [
        "spark.sql(\"\"\"\n",
        "SELECT\n",
        "  SUM(CASE WHEN DIAG_4_01 = 'U071' THEN 1 ELSE 0 END) as covid_confirmed_primary,\n",
        "  SUM(CASE WHEN DIAG_4_01 = 'U072' THEN 1 ELSE 0 END) as covid_suspected_primary,\n",
        "  SUM(CASE WHEN DIAG_4_CONCAT LIKE '%U071%' OR DIAG_4_CONCAT LIKE '%U072%' THEN 1 ELSE 0 END) as covid_any\n",
        "FROM\n",
        "  hes_apc\n",
        "\"\"\").show()"
      ]
    },
    {
      "cell_type": "code",
      "execution_count": 11,
      "metadata": {
        "colab": {
          "base_uri": "https://localhost:8080/"
        },
        "id": "6gmOGSGR2H4r",
        "outputId": "cf474ba6-e9d2-4d2c-867a-348745f6c6ec"
      },
      "outputs": [
        {
          "name": "stdout",
          "output_type": "stream",
          "text": [
            "+-----------------------+-----------------------+---------+\n",
            "|covid_confirmed_primary|covid_suspected_primary|covid_any|\n",
            "+-----------------------+-----------------------+---------+\n",
            "|                    343|                     26|      525|\n",
            "+-----------------------+-----------------------+---------+\n",
            "\n"
          ]
        }
      ],
      "source": [
        "# import all 'SQL' like functions, e.g. count\n",
        "import pyspark.sql.functions as F\n",
        "\n",
        "# Pull the table into a pyspark dataframe\n",
        "df = spark.table('hes_apc')\n",
        "\n",
        "df \\\n",
        ".select(\n",
        "    F.sum(F.when(F.col(\"DIAG_4_01\") == \"U071\", 1).otherwise(0)).alias(\"covid_confirmed_primary\"),\n",
        "    F.sum(F.when(F.col(\"DIAG_4_01\") == \"U072\", 1).otherwise(0)).alias(\"covid_suspected_primary\"),\n",
        "    F.sum(F.when(F.col(\"DIAG_4_CONCAT\").like(\"%U071%\") | F.col(\"DIAG_4_CONCAT\").like(\"%U072%\"), 1).otherwise(0)).alias(\"covid_any\")\n",
        ") \\\n",
        ".show()"
      ]
    },
    {
      "cell_type": "code",
      "execution_count": 14,
      "metadata": {
        "colab": {
          "base_uri": "https://localhost:8080/"
        },
        "id": "BlHpIVYXVYkT",
        "outputId": "0047efc3-1c40-4979-ae0c-455fda761b2c"
      },
      "outputs": [
        {
          "name": "stdout",
          "output_type": "stream",
          "text": [
            "+---+-----------------+\n",
            "|SEX|   mean(STARTAGE)|\n",
            "+---+-----------------+\n",
            "|  1|50.46308724832215|\n",
            "|  2| 55.1948051948052|\n",
            "+---+-----------------+\n",
            "\n"
          ]
        }
      ],
      "source": [
        "spark.sql(\"\"\"\n",
        "SELECT\n",
        "  SEX,\n",
        "  MEAN(STARTAGE)\n",
        "FROM\n",
        "  hes_apc\n",
        "WHERE\n",
        "  DIAG_4_01 = 'U071'\n",
        "AND\n",
        "  STARTAGE < 120\n",
        "AND\n",
        "  (SEX = 1 OR SEX = 2)\n",
        "GROUP BY\n",
        "  SEX\n",
        "\"\"\").show()"
      ]
    },
    {
      "cell_type": "code",
      "execution_count": 12,
      "metadata": {
        "colab": {
          "base_uri": "https://localhost:8080/"
        },
        "id": "guuiVEY_3W3P",
        "outputId": "b4b562ed-9fbb-470f-a9ba-9d34a3792e51"
      },
      "outputs": [
        {
          "name": "stdout",
          "output_type": "stream",
          "text": [
            "+---+-----------------+\n",
            "|SEX|    MEAN_STARTAGE|\n",
            "+---+-----------------+\n",
            "|  1|50.46308724832215|\n",
            "|  2| 55.1948051948052|\n",
            "+---+-----------------+\n",
            "\n"
          ]
        }
      ],
      "source": [
        "# Assume you've already created the data frame in cell above\n",
        "df \\\n",
        ".filter(\n",
        "    (df.DIAG_4_01 == \"U071\")\n",
        "    & (df.STARTAGE < 120)\n",
        "    & ((df.SEX == 1) | (df.SEX == 2))\n",
        ") \\\n",
        ".groupBy(\"SEX\") \\\n",
        ".agg(\n",
        "    F.avg(\"STARTAGE\").alias(\"MEAN_STARTAGE\")\n",
        "    ) \\\n",
        ".show()"
      ]
    },
    {
      "cell_type": "markdown",
      "metadata": {
        "id": "tlpJBzVvWPh0"
      },
      "source": [
        "So, on average, men hospitalised with COVID were younger"
      ]
    },
    {
      "cell_type": "markdown",
      "metadata": {
        "id": "1iS0tb7IWj-X"
      },
      "source": [
        "# Pull result into pandas df using `.toPandas()` method\n",
        "We can then use this for downstream analyses or visualisation (in Python, can do similar in R in SDE but not on colab)"
      ]
    },
    {
      "cell_type": "code",
      "execution_count": 15,
      "metadata": {
        "colab": {
          "base_uri": "https://localhost:8080/",
          "height": 129
        },
        "id": "Pe_97920Wjp8",
        "outputId": "ec68f85a-1c60-4388-b40c-815a5a476198"
      },
      "outputs": [
        {
          "data": {
            "application/vnd.google.colaboratory.intrinsic+json": {
              "summary": "{\n  \"name\": \"df\",\n  \"rows\": 2,\n  \"fields\": [\n    {\n      \"column\": \"SEX\",\n      \"properties\": {\n        \"dtype\": \"number\",\n        \"std\": 0,\n        \"min\": 1,\n        \"max\": 2,\n        \"num_unique_values\": 2,\n        \"samples\": [\n          2,\n          1\n        ],\n        \"semantic_type\": \"\",\n        \"description\": \"\"\n      }\n    },\n    {\n      \"column\": \"mean(STARTAGE)\",\n      \"properties\": {\n        \"dtype\": \"number\",\n        \"std\": 3.345829846620251,\n        \"min\": 50.46308724832215,\n        \"max\": 55.1948051948052,\n        \"num_unique_values\": 2,\n        \"samples\": [\n          55.1948051948052,\n          50.46308724832215\n        ],\n        \"semantic_type\": \"\",\n        \"description\": \"\"\n      }\n    }\n  ]\n}",
              "type": "dataframe",
              "variable_name": "df"
            },
            "text/html": [
              "\n",
              "  <div id=\"df-a0e9f94c-b3d1-464a-b579-4661f5c88813\" class=\"colab-df-container\">\n",
              "    <div>\n",
              "<style scoped>\n",
              "    .dataframe tbody tr th:only-of-type {\n",
              "        vertical-align: middle;\n",
              "    }\n",
              "\n",
              "    .dataframe tbody tr th {\n",
              "        vertical-align: top;\n",
              "    }\n",
              "\n",
              "    .dataframe thead th {\n",
              "        text-align: right;\n",
              "    }\n",
              "</style>\n",
              "<table border=\"1\" class=\"dataframe\">\n",
              "  <thead>\n",
              "    <tr style=\"text-align: right;\">\n",
              "      <th></th>\n",
              "      <th>SEX</th>\n",
              "      <th>mean(STARTAGE)</th>\n",
              "    </tr>\n",
              "  </thead>\n",
              "  <tbody>\n",
              "    <tr>\n",
              "      <th>0</th>\n",
              "      <td>1</td>\n",
              "      <td>50.463087</td>\n",
              "    </tr>\n",
              "    <tr>\n",
              "      <th>1</th>\n",
              "      <td>2</td>\n",
              "      <td>55.194805</td>\n",
              "    </tr>\n",
              "  </tbody>\n",
              "</table>\n",
              "</div>\n",
              "    <div class=\"colab-df-buttons\">\n",
              "\n",
              "  <div class=\"colab-df-container\">\n",
              "    <button class=\"colab-df-convert\" onclick=\"convertToInteractive('df-a0e9f94c-b3d1-464a-b579-4661f5c88813')\"\n",
              "            title=\"Convert this dataframe to an interactive table.\"\n",
              "            style=\"display:none;\">\n",
              "\n",
              "  <svg xmlns=\"http://www.w3.org/2000/svg\" height=\"24px\" viewBox=\"0 -960 960 960\">\n",
              "    <path d=\"M120-120v-720h720v720H120Zm60-500h600v-160H180v160Zm220 220h160v-160H400v160Zm0 220h160v-160H400v160ZM180-400h160v-160H180v160Zm440 0h160v-160H620v160ZM180-180h160v-160H180v160Zm440 0h160v-160H620v160Z\"/>\n",
              "  </svg>\n",
              "    </button>\n",
              "\n",
              "  <style>\n",
              "    .colab-df-container {\n",
              "      display:flex;\n",
              "      gap: 12px;\n",
              "    }\n",
              "\n",
              "    .colab-df-convert {\n",
              "      background-color: #E8F0FE;\n",
              "      border: none;\n",
              "      border-radius: 50%;\n",
              "      cursor: pointer;\n",
              "      display: none;\n",
              "      fill: #1967D2;\n",
              "      height: 32px;\n",
              "      padding: 0 0 0 0;\n",
              "      width: 32px;\n",
              "    }\n",
              "\n",
              "    .colab-df-convert:hover {\n",
              "      background-color: #E2EBFA;\n",
              "      box-shadow: 0px 1px 2px rgba(60, 64, 67, 0.3), 0px 1px 3px 1px rgba(60, 64, 67, 0.15);\n",
              "      fill: #174EA6;\n",
              "    }\n",
              "\n",
              "    .colab-df-buttons div {\n",
              "      margin-bottom: 4px;\n",
              "    }\n",
              "\n",
              "    [theme=dark] .colab-df-convert {\n",
              "      background-color: #3B4455;\n",
              "      fill: #D2E3FC;\n",
              "    }\n",
              "\n",
              "    [theme=dark] .colab-df-convert:hover {\n",
              "      background-color: #434B5C;\n",
              "      box-shadow: 0px 1px 3px 1px rgba(0, 0, 0, 0.15);\n",
              "      filter: drop-shadow(0px 1px 2px rgba(0, 0, 0, 0.3));\n",
              "      fill: #FFFFFF;\n",
              "    }\n",
              "  </style>\n",
              "\n",
              "    <script>\n",
              "      const buttonEl =\n",
              "        document.querySelector('#df-a0e9f94c-b3d1-464a-b579-4661f5c88813 button.colab-df-convert');\n",
              "      buttonEl.style.display =\n",
              "        google.colab.kernel.accessAllowed ? 'block' : 'none';\n",
              "\n",
              "      async function convertToInteractive(key) {\n",
              "        const element = document.querySelector('#df-a0e9f94c-b3d1-464a-b579-4661f5c88813');\n",
              "        const dataTable =\n",
              "          await google.colab.kernel.invokeFunction('convertToInteractive',\n",
              "                                                    [key], {});\n",
              "        if (!dataTable) return;\n",
              "\n",
              "        const docLinkHtml = 'Like what you see? Visit the ' +\n",
              "          '<a target=\"_blank\" href=https://colab.research.google.com/notebooks/data_table.ipynb>data table notebook</a>'\n",
              "          + ' to learn more about interactive tables.';\n",
              "        element.innerHTML = '';\n",
              "        dataTable['output_type'] = 'display_data';\n",
              "        await google.colab.output.renderOutput(dataTable, element);\n",
              "        const docLink = document.createElement('div');\n",
              "        docLink.innerHTML = docLinkHtml;\n",
              "        element.appendChild(docLink);\n",
              "      }\n",
              "    </script>\n",
              "  </div>\n",
              "\n",
              "\n",
              "<div id=\"df-51467a43-71b7-4d7c-b8f9-160e31e32910\">\n",
              "  <button class=\"colab-df-quickchart\" onclick=\"quickchart('df-51467a43-71b7-4d7c-b8f9-160e31e32910')\"\n",
              "            title=\"Suggest charts\"\n",
              "            style=\"display:none;\">\n",
              "\n",
              "<svg xmlns=\"http://www.w3.org/2000/svg\" height=\"24px\"viewBox=\"0 0 24 24\"\n",
              "     width=\"24px\">\n",
              "    <g>\n",
              "        <path d=\"M19 3H5c-1.1 0-2 .9-2 2v14c0 1.1.9 2 2 2h14c1.1 0 2-.9 2-2V5c0-1.1-.9-2-2-2zM9 17H7v-7h2v7zm4 0h-2V7h2v10zm4 0h-2v-4h2v4z\"/>\n",
              "    </g>\n",
              "</svg>\n",
              "  </button>\n",
              "\n",
              "<style>\n",
              "  .colab-df-quickchart {\n",
              "      --bg-color: #E8F0FE;\n",
              "      --fill-color: #1967D2;\n",
              "      --hover-bg-color: #E2EBFA;\n",
              "      --hover-fill-color: #174EA6;\n",
              "      --disabled-fill-color: #AAA;\n",
              "      --disabled-bg-color: #DDD;\n",
              "  }\n",
              "\n",
              "  [theme=dark] .colab-df-quickchart {\n",
              "      --bg-color: #3B4455;\n",
              "      --fill-color: #D2E3FC;\n",
              "      --hover-bg-color: #434B5C;\n",
              "      --hover-fill-color: #FFFFFF;\n",
              "      --disabled-bg-color: #3B4455;\n",
              "      --disabled-fill-color: #666;\n",
              "  }\n",
              "\n",
              "  .colab-df-quickchart {\n",
              "    background-color: var(--bg-color);\n",
              "    border: none;\n",
              "    border-radius: 50%;\n",
              "    cursor: pointer;\n",
              "    display: none;\n",
              "    fill: var(--fill-color);\n",
              "    height: 32px;\n",
              "    padding: 0;\n",
              "    width: 32px;\n",
              "  }\n",
              "\n",
              "  .colab-df-quickchart:hover {\n",
              "    background-color: var(--hover-bg-color);\n",
              "    box-shadow: 0 1px 2px rgba(60, 64, 67, 0.3), 0 1px 3px 1px rgba(60, 64, 67, 0.15);\n",
              "    fill: var(--button-hover-fill-color);\n",
              "  }\n",
              "\n",
              "  .colab-df-quickchart-complete:disabled,\n",
              "  .colab-df-quickchart-complete:disabled:hover {\n",
              "    background-color: var(--disabled-bg-color);\n",
              "    fill: var(--disabled-fill-color);\n",
              "    box-shadow: none;\n",
              "  }\n",
              "\n",
              "  .colab-df-spinner {\n",
              "    border: 2px solid var(--fill-color);\n",
              "    border-color: transparent;\n",
              "    border-bottom-color: var(--fill-color);\n",
              "    animation:\n",
              "      spin 1s steps(1) infinite;\n",
              "  }\n",
              "\n",
              "  @keyframes spin {\n",
              "    0% {\n",
              "      border-color: transparent;\n",
              "      border-bottom-color: var(--fill-color);\n",
              "      border-left-color: var(--fill-color);\n",
              "    }\n",
              "    20% {\n",
              "      border-color: transparent;\n",
              "      border-left-color: var(--fill-color);\n",
              "      border-top-color: var(--fill-color);\n",
              "    }\n",
              "    30% {\n",
              "      border-color: transparent;\n",
              "      border-left-color: var(--fill-color);\n",
              "      border-top-color: var(--fill-color);\n",
              "      border-right-color: var(--fill-color);\n",
              "    }\n",
              "    40% {\n",
              "      border-color: transparent;\n",
              "      border-right-color: var(--fill-color);\n",
              "      border-top-color: var(--fill-color);\n",
              "    }\n",
              "    60% {\n",
              "      border-color: transparent;\n",
              "      border-right-color: var(--fill-color);\n",
              "    }\n",
              "    80% {\n",
              "      border-color: transparent;\n",
              "      border-right-color: var(--fill-color);\n",
              "      border-bottom-color: var(--fill-color);\n",
              "    }\n",
              "    90% {\n",
              "      border-color: transparent;\n",
              "      border-bottom-color: var(--fill-color);\n",
              "    }\n",
              "  }\n",
              "</style>\n",
              "\n",
              "  <script>\n",
              "    async function quickchart(key) {\n",
              "      const quickchartButtonEl =\n",
              "        document.querySelector('#' + key + ' button');\n",
              "      quickchartButtonEl.disabled = true;  // To prevent multiple clicks.\n",
              "      quickchartButtonEl.classList.add('colab-df-spinner');\n",
              "      try {\n",
              "        const charts = await google.colab.kernel.invokeFunction(\n",
              "            'suggestCharts', [key], {});\n",
              "      } catch (error) {\n",
              "        console.error('Error during call to suggestCharts:', error);\n",
              "      }\n",
              "      quickchartButtonEl.classList.remove('colab-df-spinner');\n",
              "      quickchartButtonEl.classList.add('colab-df-quickchart-complete');\n",
              "    }\n",
              "    (() => {\n",
              "      let quickchartButtonEl =\n",
              "        document.querySelector('#df-51467a43-71b7-4d7c-b8f9-160e31e32910 button');\n",
              "      quickchartButtonEl.style.display =\n",
              "        google.colab.kernel.accessAllowed ? 'block' : 'none';\n",
              "    })();\n",
              "  </script>\n",
              "</div>\n",
              "    </div>\n",
              "  </div>\n"
            ],
            "text/plain": [
              "   SEX  mean(STARTAGE)\n",
              "0    1       50.463087\n",
              "1    2       55.194805"
            ]
          },
          "execution_count": 15,
          "metadata": {},
          "output_type": "execute_result"
        },
        {
          "name": "stdout",
          "output_type": "stream",
          "text": [
            "WARNING: Runtime no longer has a reference to this dataframe, please re-run this cell and try again.\n"
          ]
        }
      ],
      "source": [
        "df = spark.sql(\"\"\"\n",
        "SELECT\n",
        "  SEX,\n",
        "  MEAN(STARTAGE)\n",
        "FROM\n",
        "  hes_apc\n",
        "WHERE\n",
        "  DIAG_4_01 = 'U071'\n",
        "AND\n",
        "  STARTAGE < 120\n",
        "AND\n",
        "  (SEX = 1 OR SEX = 2)\n",
        "GROUP BY\n",
        "  SEX\n",
        "  \"\"\").toPandas()\n",
        "\n",
        "df.head()"
      ]
    }
  ],
  "metadata": {
    "colab": {
      "provenance": []
    },
    "kernelspec": {
      "display_name": "Python 3",
      "name": "python3"
    },
    "language_info": {
      "name": "python"
    }
  },
  "nbformat": 4,
  "nbformat_minor": 0
}
