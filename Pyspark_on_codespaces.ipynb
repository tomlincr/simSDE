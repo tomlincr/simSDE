{
 "cells": [
  {
   "cell_type": "markdown",
   "metadata": {},
   "source": [
    "# Init Spark"
   ]
  },
  {
   "cell_type": "code",
   "execution_count": 1,
   "metadata": {},
   "outputs": [],
   "source": [
    "import pyspark"
   ]
  },
  {
   "cell_type": "code",
   "execution_count": 3,
   "metadata": {},
   "outputs": [
    {
     "name": "stderr",
     "output_type": "stream",
     "text": [
      "23/08/03 17:03:11 WARN Utils: Your hostname, codespaces-86aa16 resolves to a loopback address: 127.0.0.1; using 172.16.5.4 instead (on interface eth0)\n",
      "23/08/03 17:03:11 WARN Utils: Set SPARK_LOCAL_IP if you need to bind to another address\n",
      "Setting default log level to \"WARN\".\n",
      "To adjust logging level use sc.setLogLevel(newLevel). For SparkR, use setLogLevel(newLevel).\n",
      "23/08/03 17:03:12 WARN NativeCodeLoader: Unable to load native-hadoop library for your platform... using builtin-java classes where applicable\n"
     ]
    }
   ],
   "source": [
    "from pyspark.sql import SparkSession\n",
    "spark = SparkSession.builder\\\n",
    "        .master(\"local\")\\\n",
    "        .appName(\"simSDE\")\\\n",
    "        .config('spark.ui.port', '4050')\\\n",
    "        .getOrCreate()"
   ]
  },
  {
   "cell_type": "markdown",
   "metadata": {},
   "source": [
    "# Load data (pandas)"
   ]
  },
  {
   "cell_type": "code",
   "execution_count": 5,
   "metadata": {},
   "outputs": [],
   "source": [
    "import pandas as pd"
   ]
  },
  {
   "cell_type": "code",
   "execution_count": 10,
   "metadata": {},
   "outputs": [
    {
     "name": "stderr",
     "output_type": "stream",
     "text": [
      "/tmp/ipykernel_5465/3069729294.py:1: DtypeWarning: Columns (116,141,176) have mixed types. Specify dtype option on import or set low_memory=False.\n",
      "  df = pd.read_csv(\"data/artificial_hes_apc_2122.csv\")\n"
     ]
    },
    {
     "data": {
      "text/html": [
       "<div>\n",
       "<style scoped>\n",
       "    .dataframe tbody tr th:only-of-type {\n",
       "        vertical-align: middle;\n",
       "    }\n",
       "\n",
       "    .dataframe tbody tr th {\n",
       "        vertical-align: top;\n",
       "    }\n",
       "\n",
       "    .dataframe thead th {\n",
       "        text-align: right;\n",
       "    }\n",
       "</style>\n",
       "<table border=\"1\" class=\"dataframe\">\n",
       "  <thead>\n",
       "    <tr style=\"text-align: right;\">\n",
       "      <th></th>\n",
       "      <th>FYEAR</th>\n",
       "      <th>PARTYEAR</th>\n",
       "      <th>EPIKEY</th>\n",
       "      <th>AEKEY</th>\n",
       "      <th>PSEUDO_HESID</th>\n",
       "      <th>ADMIDATE</th>\n",
       "      <th>ADMIMETH</th>\n",
       "      <th>ADMINCAT</th>\n",
       "      <th>ADMINCATST</th>\n",
       "      <th>ADMISORC</th>\n",
       "      <th>...</th>\n",
       "      <th>ALCBRDDIAG</th>\n",
       "      <th>SITEDIST</th>\n",
       "      <th>SITEDIST_FLAG</th>\n",
       "      <th>PROVDIST</th>\n",
       "      <th>PROVDIST_FLAG</th>\n",
       "      <th>HRG40</th>\n",
       "      <th>HRGLATE35</th>\n",
       "      <th>NER_GP_PRACTICE</th>\n",
       "      <th>NER_RESIDENCE</th>\n",
       "      <th>NER_TREATMENT</th>\n",
       "    </tr>\n",
       "  </thead>\n",
       "  <tbody>\n",
       "    <tr>\n",
       "      <th>0</th>\n",
       "      <td>2122</td>\n",
       "      <td>202103</td>\n",
       "      <td>811282731008</td>\n",
       "      <td>998778938057</td>\n",
       "      <td>TESToBeA1ZCAwu96JtChcj174KEKSgD9</td>\n",
       "      <td>2021-03-31</td>\n",
       "      <td>11</td>\n",
       "      <td>1</td>\n",
       "      <td>NaN</td>\n",
       "      <td>19</td>\n",
       "      <td>...</td>\n",
       "      <td>K74</td>\n",
       "      <td>64.36</td>\n",
       "      <td>5.0</td>\n",
       "      <td>23.89</td>\n",
       "      <td>3.0</td>\n",
       "      <td>NaN</td>\n",
       "      <td>NaN</td>\n",
       "      <td>QUY</td>\n",
       "      <td>QUA</td>\n",
       "      <td>QMJ</td>\n",
       "    </tr>\n",
       "    <tr>\n",
       "      <th>1</th>\n",
       "      <td>2122</td>\n",
       "      <td>202103</td>\n",
       "      <td>945889480421</td>\n",
       "      <td>502121115908</td>\n",
       "      <td>TESToBeA1ZCAwu96JtChcj174KEKSgD9</td>\n",
       "      <td>2021-05-18</td>\n",
       "      <td>2D</td>\n",
       "      <td>1</td>\n",
       "      <td>NaN</td>\n",
       "      <td>19</td>\n",
       "      <td>...</td>\n",
       "      <td>E11</td>\n",
       "      <td>6.79</td>\n",
       "      <td>5.0</td>\n",
       "      <td>5.51</td>\n",
       "      <td>3.0</td>\n",
       "      <td>NaN</td>\n",
       "      <td>NaN</td>\n",
       "      <td>QYG</td>\n",
       "      <td>QOP</td>\n",
       "      <td>QOP</td>\n",
       "    </tr>\n",
       "    <tr>\n",
       "      <th>2</th>\n",
       "      <td>2122</td>\n",
       "      <td>202103</td>\n",
       "      <td>528111587051</td>\n",
       "      <td>866219613385</td>\n",
       "      <td>TESTumS1fdRDx6j7yODr6lFffI5BZBDF</td>\n",
       "      <td>2021-05-15</td>\n",
       "      <td>24</td>\n",
       "      <td>1</td>\n",
       "      <td>NaN</td>\n",
       "      <td>19</td>\n",
       "      <td>...</td>\n",
       "      <td>I48</td>\n",
       "      <td>6.23</td>\n",
       "      <td>5.0</td>\n",
       "      <td>35.88</td>\n",
       "      <td>3.0</td>\n",
       "      <td>NaN</td>\n",
       "      <td>NaN</td>\n",
       "      <td>QKS</td>\n",
       "      <td>QRL</td>\n",
       "      <td>QHM</td>\n",
       "    </tr>\n",
       "    <tr>\n",
       "      <th>3</th>\n",
       "      <td>2122</td>\n",
       "      <td>202103</td>\n",
       "      <td>912335548721</td>\n",
       "      <td>415569094112</td>\n",
       "      <td>TESTZhkl8wktpxboD3w4h9gznMl8EhMV</td>\n",
       "      <td>2021-04-28</td>\n",
       "      <td>11</td>\n",
       "      <td>1</td>\n",
       "      <td>NaN</td>\n",
       "      <td>19</td>\n",
       "      <td>...</td>\n",
       "      <td>NaN</td>\n",
       "      <td>11.32</td>\n",
       "      <td>5.0</td>\n",
       "      <td>16.03</td>\n",
       "      <td>3.0</td>\n",
       "      <td>NaN</td>\n",
       "      <td>NaN</td>\n",
       "      <td>QJ2</td>\n",
       "      <td>QWO</td>\n",
       "      <td>QMJ</td>\n",
       "    </tr>\n",
       "    <tr>\n",
       "      <th>4</th>\n",
       "      <td>2122</td>\n",
       "      <td>202103</td>\n",
       "      <td>171243392039</td>\n",
       "      <td>616693364601</td>\n",
       "      <td>TESTfJm3gvXDWqIhFLnKGYC07r5XTNNo</td>\n",
       "      <td>2021-04-27</td>\n",
       "      <td>25</td>\n",
       "      <td>1</td>\n",
       "      <td>NaN</td>\n",
       "      <td>19</td>\n",
       "      <td>...</td>\n",
       "      <td>NaN</td>\n",
       "      <td>5.01</td>\n",
       "      <td>5.0</td>\n",
       "      <td>6.37</td>\n",
       "      <td>3.0</td>\n",
       "      <td>NaN</td>\n",
       "      <td>NaN</td>\n",
       "      <td>QMF</td>\n",
       "      <td>QE1</td>\n",
       "      <td>QYG</td>\n",
       "    </tr>\n",
       "  </tbody>\n",
       "</table>\n",
       "<p>5 rows × 193 columns</p>\n",
       "</div>"
      ],
      "text/plain": [
       "   FYEAR  PARTYEAR        EPIKEY         AEKEY  \\\n",
       "0   2122    202103  811282731008  998778938057   \n",
       "1   2122    202103  945889480421  502121115908   \n",
       "2   2122    202103  528111587051  866219613385   \n",
       "3   2122    202103  912335548721  415569094112   \n",
       "4   2122    202103  171243392039  616693364601   \n",
       "\n",
       "                       PSEUDO_HESID    ADMIDATE ADMIMETH  ADMINCAT  \\\n",
       "0  TESToBeA1ZCAwu96JtChcj174KEKSgD9  2021-03-31       11         1   \n",
       "1  TESToBeA1ZCAwu96JtChcj174KEKSgD9  2021-05-18       2D         1   \n",
       "2  TESTumS1fdRDx6j7yODr6lFffI5BZBDF  2021-05-15       24         1   \n",
       "3  TESTZhkl8wktpxboD3w4h9gznMl8EhMV  2021-04-28       11         1   \n",
       "4  TESTfJm3gvXDWqIhFLnKGYC07r5XTNNo  2021-04-27       25         1   \n",
       "\n",
       "   ADMINCATST  ADMISORC  ... ALCBRDDIAG  SITEDIST SITEDIST_FLAG PROVDIST  \\\n",
       "0         NaN        19  ...        K74     64.36           5.0    23.89   \n",
       "1         NaN        19  ...        E11      6.79           5.0     5.51   \n",
       "2         NaN        19  ...        I48      6.23           5.0    35.88   \n",
       "3         NaN        19  ...        NaN     11.32           5.0    16.03   \n",
       "4         NaN        19  ...        NaN      5.01           5.0     6.37   \n",
       "\n",
       "  PROVDIST_FLAG HRG40 HRGLATE35 NER_GP_PRACTICE NER_RESIDENCE NER_TREATMENT  \n",
       "0           3.0   NaN       NaN             QUY           QUA           QMJ  \n",
       "1           3.0   NaN       NaN             QYG           QOP           QOP  \n",
       "2           3.0   NaN       NaN             QKS           QRL           QHM  \n",
       "3           3.0   NaN       NaN             QJ2           QWO           QMJ  \n",
       "4           3.0   NaN       NaN             QMF           QE1           QYG  \n",
       "\n",
       "[5 rows x 193 columns]"
      ]
     },
     "execution_count": 10,
     "metadata": {},
     "output_type": "execute_result"
    }
   ],
   "source": [
    "df = pd.read_csv(\"data/artificial_hes_apc_2122.csv\")\n",
    "df.head()"
   ]
  },
  {
   "cell_type": "code",
   "execution_count": 15,
   "metadata": {},
   "outputs": [
    {
     "name": "stdout",
     "output_type": "stream",
     "text": [
      "OPERTN_3_23\n",
      "OPERTN_4_23\n",
      "TRETSPEF\n"
     ]
    }
   ],
   "source": [
    "# DtypeWarning: Columns (116,141,176) have mixed types. Specify dtype option on import or set low_memory=False.\n",
    "for i in [116, 141, 176]:\n",
    "    print(df.columns[i])"
   ]
  },
  {
   "cell_type": "markdown",
   "metadata": {},
   "source": [
    "# Load data (Spark)"
   ]
  },
  {
   "cell_type": "code",
   "execution_count": 26,
   "metadata": {},
   "outputs": [
    {
     "name": "stderr",
     "output_type": "stream",
     "text": [
      "                                                                                \r"
     ]
    },
    {
     "data": {
      "text/plain": [
       "Row(FYEAR=2122, PARTYEAR=202103, EPIKEY=811282731008, AEKEY=998778938057, PSEUDO_HESID='TESToBeA1ZCAwu96JtChcj174KEKSgD9', ADMIDATE=datetime.date(2021, 3, 31), ADMIMETH='11', ADMINCAT=1, ADMINCATST=None, ADMISORC=19, ALCDIAG_4=None, ALCFRAC=0.35, AT_GP_PRACTICE='Q47', AT_RESIDENCE='Q70', AT_TREATMENT='Q48', CANNET='N02', CANREG='Y1201', CAUSE_3=None, CAUSE_4=None, CCG_GP_PRACTICE='M2L0M', CCG_RESIDENCE='02E', CCG_RESPONSIBILITY='15A', CCG_RESPONSIBILITY_ORIGIN=1, CCG_TREATMENT='91Q', CCG_TREATMENT_ORIGIN=1, CLASSPAT=2, CR_GP_PRACTICE='Y59', CR_RESIDENCE='Y62', CR_TREATMENT='Y60', DIAG_3_01='K31', DIAG_3_02='H10', DIAG_3_03='N43', DIAG_3_04=None, DIAG_3_05=None, DIAG_3_06=None, DIAG_3_07=None, DIAG_3_08='G47', DIAG_3_09=None, DIAG_3_10=None, DIAG_3_11=None, DIAG_3_12=None, DIAG_3_13=None, DIAG_3_14=None, DIAG_3_15=None, DIAG_3_16=None, DIAG_3_17=None, DIAG_3_18=None, DIAG_3_19=None, DIAG_3_20=None, DIAG_3_CONCAT='K31,H10,N43,G47', DIAG_4_01='K315', DIAG_4_02='H109', DIAG_4_03='N433', DIAG_4_04=None, DIAG_4_05=None, DIAG_4_06=None, DIAG_4_07=None, DIAG_4_08='G473', DIAG_4_09=None, DIAG_4_10=None, DIAG_4_11=None, DIAG_4_12=None, DIAG_4_13=None, DIAG_4_14=None, DIAG_4_15=None, DIAG_4_16=None, DIAG_4_17=None, DIAG_4_18=None, DIAG_4_19=None, DIAG_4_20=None, DIAG_4_CONCAT='K315,H109,N433,G473', DIAG_COUNT=4, DISDATE=datetime.date(2021, 6, 22), DISDEST=19, DISMETH=8, ELECDATE=datetime.date(1801, 1, 1), ELECDUR=7, ELECDUR_CALC=123, EPIDUR=2, EPIEND=datetime.date(2021, 4, 23), EPIORDER=1, EPISTART=datetime.date(2021, 3, 31), EPISTAT=3, EPITYPE=1, ETHNOS='A', FAE=0, FAE_EMERGENCY=0, FCE=1, FDE=1, GORTREAT='B', GPPRAC='C85017', MAINSPEF='810', MYDOB=81937, NEODUR=None, OPERTN_3_01='-  ', OPERTN_3_02='Z27', OPERTN_3_03=None, OPERTN_3_04=None, OPERTN_3_05=None, OPERTN_3_06=None, OPERTN_3_07=None, OPERTN_3_08=None, OPERTN_3_09=None, OPERTN_3_10='X40', OPERTN_3_11=None, OPERTN_3_12=None, OPERTN_3_13=None, OPERTN_3_14=None, OPERTN_3_15=None, OPERTN_3_16=None, OPERTN_3_17=None, OPERTN_3_18=None, OPERTN_3_19=None, OPERTN_3_20=None, OPERTN_3_21=None, OPERTN_3_22=None, OPERTN_3_23=None, OPERTN_3_24=None, OPERTN_3_CONCAT='-  ,Z27,X40', OPERTN_4_01='-   ', OPERTN_4_02='Z272', OPERTN_4_03=None, OPERTN_4_04=None, OPERTN_4_05=None, OPERTN_4_06=None, OPERTN_4_07=None, OPERTN_4_08=None, OPERTN_4_09=None, OPERTN_4_10='X406', OPERTN_4_11=None, OPERTN_4_12=None, OPERTN_4_13=None, OPERTN_4_14=None, OPERTN_4_15=None, OPERTN_4_16=None, OPERTN_4_17=None, OPERTN_4_18=None, OPERTN_4_19=None, OPERTN_4_20=None, OPERTN_4_21=None, OPERTN_4_22=None, OPERTN_4_23=None, OPERTN_4_24=None, OPERTN_4_CONCAT='-   ,Z272,X406', OPERTN_COUNT=2.0, PCON='C81', PCON_ONS='E14000990', PCTCODE_HIS='5A8', PCTORIG_HIS=1, PCTTREAT='5PD', PROCODE3='RK5', PROCODE5='RR800', PROCODET='RM1', PURCODE='00Q', RANK_ORDER=None, RESCTY='00', RESCTY_ONS='E10000011', RESGOR='B', RESGOR_ONS='E12000006', RESLADST='00FA', RESLADST_ONS='E07000071', RESPCT_HIS='5PP', RESSTHA_HIS='Q33', SEX=2, SITETRET='RD816', LSOA01='E01028229', MSOA01='E02005604', SPELBGIN=0, SPELDUR=0, SPELDUR_CALC=2, SPELEND='Y', STARTAGE=84.0, STARTAGE_CALC=83.73698630136987, STHATRET='Q39', SUSHRG='SA31C', SUSRECID=28943001279972, TRETSPEF='100', LSOA11='E01025529', MSOA11='E02005538', WAITLIST=0, ALCNRWFRAC=0.0, ALCNRWDIAG=None, ALCBRDFRAC=0.105489595195189, ALCBRDDIAG='K74', SITEDIST=64.36, SITEDIST_FLAG=5, PROVDIST=23.89, PROVDIST_FLAG=3, HRG40=None, HRGLATE35=None, NER_GP_PRACTICE='QUY', NER_RESIDENCE='QUA', NER_TREATMENT='QMJ')"
      ]
     },
     "execution_count": 26,
     "metadata": {},
     "output_type": "execute_result"
    }
   ],
   "source": [
    "df = (spark\n",
    "      .read\n",
    "      .format(\"csv\")\n",
    "      .option(\"header\", \"true\")\n",
    "      .option(\"inferSchema\", \"true\")\n",
    "      .load(\"data/artificial_hes_apc_2122.csv\"))\n",
    "df.head()"
   ]
  },
  {
   "cell_type": "code",
   "execution_count": 27,
   "metadata": {},
   "outputs": [
    {
     "data": {
      "text/plain": [
       "DataFrame[FYEAR: int, PARTYEAR: int, EPIKEY: bigint, AEKEY: bigint, PSEUDO_HESID: string, ADMIDATE: date, ADMIMETH: string, ADMINCAT: int, ADMINCATST: string, ADMISORC: int, ALCDIAG_4: string, ALCFRAC: double, AT_GP_PRACTICE: string, AT_RESIDENCE: string, AT_TREATMENT: string, CANNET: string, CANREG: string, CAUSE_3: string, CAUSE_4: string, CCG_GP_PRACTICE: string, CCG_RESIDENCE: string, CCG_RESPONSIBILITY: string, CCG_RESPONSIBILITY_ORIGIN: int, CCG_TREATMENT: string, CCG_TREATMENT_ORIGIN: int, CLASSPAT: int, CR_GP_PRACTICE: string, CR_RESIDENCE: string, CR_TREATMENT: string, DIAG_3_01: string, DIAG_3_02: string, DIAG_3_03: string, DIAG_3_04: string, DIAG_3_05: string, DIAG_3_06: string, DIAG_3_07: string, DIAG_3_08: string, DIAG_3_09: string, DIAG_3_10: string, DIAG_3_11: string, DIAG_3_12: string, DIAG_3_13: string, DIAG_3_14: string, DIAG_3_15: string, DIAG_3_16: string, DIAG_3_17: string, DIAG_3_18: string, DIAG_3_19: string, DIAG_3_20: string, DIAG_3_CONCAT: string, DIAG_4_01: string, DIAG_4_02: string, DIAG_4_03: string, DIAG_4_04: string, DIAG_4_05: string, DIAG_4_06: string, DIAG_4_07: string, DIAG_4_08: string, DIAG_4_09: string, DIAG_4_10: string, DIAG_4_11: string, DIAG_4_12: string, DIAG_4_13: string, DIAG_4_14: string, DIAG_4_15: string, DIAG_4_16: string, DIAG_4_17: string, DIAG_4_18: string, DIAG_4_19: string, DIAG_4_20: string, DIAG_4_CONCAT: string, DIAG_COUNT: int, DISDATE: date, DISDEST: int, DISMETH: int, ELECDATE: date, ELECDUR: int, ELECDUR_CALC: int, EPIDUR: int, EPIEND: date, EPIORDER: int, EPISTART: date, EPISTAT: int, EPITYPE: int, ETHNOS: string, FAE: int, FAE_EMERGENCY: int, FCE: int, FDE: int, GORTREAT: string, GPPRAC: string, MAINSPEF: string, MYDOB: int, NEODUR: double, OPERTN_3_01: string, OPERTN_3_02: string, OPERTN_3_03: string, OPERTN_3_04: string, OPERTN_3_05: string, OPERTN_3_06: string, OPERTN_3_07: string, OPERTN_3_08: string, OPERTN_3_09: string, OPERTN_3_10: string, OPERTN_3_11: string, OPERTN_3_12: string, OPERTN_3_13: string, OPERTN_3_14: string, OPERTN_3_15: string, OPERTN_3_16: string, OPERTN_3_17: string, OPERTN_3_18: string, OPERTN_3_19: string, OPERTN_3_20: string, OPERTN_3_21: string, OPERTN_3_22: string, OPERTN_3_23: string, OPERTN_3_24: string, OPERTN_3_CONCAT: string, OPERTN_4_01: string, OPERTN_4_02: string, OPERTN_4_03: string, OPERTN_4_04: string, OPERTN_4_05: string, OPERTN_4_06: string, OPERTN_4_07: string, OPERTN_4_08: string, OPERTN_4_09: string, OPERTN_4_10: string, OPERTN_4_11: string, OPERTN_4_12: string, OPERTN_4_13: string, OPERTN_4_14: string, OPERTN_4_15: string, OPERTN_4_16: string, OPERTN_4_17: string, OPERTN_4_18: string, OPERTN_4_19: string, OPERTN_4_20: string, OPERTN_4_21: string, OPERTN_4_22: string, OPERTN_4_23: string, OPERTN_4_24: string, OPERTN_4_CONCAT: string, OPERTN_COUNT: double, PCON: string, PCON_ONS: string, PCTCODE_HIS: string, PCTORIG_HIS: int, PCTTREAT: string, PROCODE3: string, PROCODE5: string, PROCODET: string, PURCODE: string, RANK_ORDER: double, RESCTY: string, RESCTY_ONS: string, RESGOR: string, RESGOR_ONS: string, RESLADST: string, RESLADST_ONS: string, RESPCT_HIS: string, RESSTHA_HIS: string, SEX: int, SITETRET: string, LSOA01: string, MSOA01: string, SPELBGIN: int, SPELDUR: int, SPELDUR_CALC: int, SPELEND: string, STARTAGE: double, STARTAGE_CALC: double, STHATRET: string, SUSHRG: string, SUSRECID: bigint, TRETSPEF: string, LSOA11: string, MSOA11: string, WAITLIST: int, ALCNRWFRAC: double, ALCNRWDIAG: string, ALCBRDFRAC: double, ALCBRDDIAG: string, SITEDIST: double, SITEDIST_FLAG: int, PROVDIST: double, PROVDIST_FLAG: int, HRG40: string, HRGLATE35: string, NER_GP_PRACTICE: string, NER_RESIDENCE: string, NER_TREATMENT: string]"
      ]
     },
     "metadata": {},
     "output_type": "display_data"
    }
   ],
   "source": [
    "display(df)"
   ]
  },
  {
   "cell_type": "code",
   "execution_count": 29,
   "metadata": {},
   "outputs": [
    {
     "name": "stdout",
     "output_type": "stream",
     "text": [
      "+-----+--------+------------+------------+--------------------+----------+--------+--------+----------+--------+---------+-------+--------------+------------+------------+------+------+-------+-------+---------------+-------------+------------------+-------------------------+-------------+--------------------+--------+--------------+------------+------------+---------+---------+---------+---------+---------+---------+---------+---------+---------+---------+---------+---------+---------+---------+---------+---------+---------+---------+---------+---------+--------------------+---------+---------+---------+---------+---------+---------+---------+---------+---------+---------+---------+---------+---------+---------+---------+---------+---------+---------+---------+---------+--------------------+----------+----------+-------+-------+----------+-------+------------+------+----------+--------+----------+-------+-------+------+---+-------------+---+---+--------+------+--------+------+------+-----------+-----------+-----------+-----------+-----------+-----------+-----------+-----------+-----------+-----------+-----------+-----------+-----------+-----------+-----------+-----------+-----------+-----------+-----------+-----------+-----------+-----------+-----------+-----------+-------------------+-----------+-----------+-----------+-----------+-----------+-----------+-----------+-----------+-----------+-----------+-----------+-----------+-----------+-----------+-----------+-----------+-----------+-----------+-----------+-----------+-----------+-----------+-----------+-----------+--------------------+------------+----+---------+-----------+-----------+--------+--------+--------+--------+-------+----------+------+----------+------+----------+--------+------------+----------+-----------+---+--------+---------+---------+--------+-------+------------+-------+--------+------------------+--------+------+--------------+--------+---------+---------+--------+------------------+----------+------------------+----------+--------+-------------+--------+-------------+-----+---------+---------------+-------------+-------------+\n",
      "|FYEAR|PARTYEAR|      EPIKEY|       AEKEY|        PSEUDO_HESID|  ADMIDATE|ADMIMETH|ADMINCAT|ADMINCATST|ADMISORC|ALCDIAG_4|ALCFRAC|AT_GP_PRACTICE|AT_RESIDENCE|AT_TREATMENT|CANNET|CANREG|CAUSE_3|CAUSE_4|CCG_GP_PRACTICE|CCG_RESIDENCE|CCG_RESPONSIBILITY|CCG_RESPONSIBILITY_ORIGIN|CCG_TREATMENT|CCG_TREATMENT_ORIGIN|CLASSPAT|CR_GP_PRACTICE|CR_RESIDENCE|CR_TREATMENT|DIAG_3_01|DIAG_3_02|DIAG_3_03|DIAG_3_04|DIAG_3_05|DIAG_3_06|DIAG_3_07|DIAG_3_08|DIAG_3_09|DIAG_3_10|DIAG_3_11|DIAG_3_12|DIAG_3_13|DIAG_3_14|DIAG_3_15|DIAG_3_16|DIAG_3_17|DIAG_3_18|DIAG_3_19|DIAG_3_20|       DIAG_3_CONCAT|DIAG_4_01|DIAG_4_02|DIAG_4_03|DIAG_4_04|DIAG_4_05|DIAG_4_06|DIAG_4_07|DIAG_4_08|DIAG_4_09|DIAG_4_10|DIAG_4_11|DIAG_4_12|DIAG_4_13|DIAG_4_14|DIAG_4_15|DIAG_4_16|DIAG_4_17|DIAG_4_18|DIAG_4_19|DIAG_4_20|       DIAG_4_CONCAT|DIAG_COUNT|   DISDATE|DISDEST|DISMETH|  ELECDATE|ELECDUR|ELECDUR_CALC|EPIDUR|    EPIEND|EPIORDER|  EPISTART|EPISTAT|EPITYPE|ETHNOS|FAE|FAE_EMERGENCY|FCE|FDE|GORTREAT|GPPRAC|MAINSPEF| MYDOB|NEODUR|OPERTN_3_01|OPERTN_3_02|OPERTN_3_03|OPERTN_3_04|OPERTN_3_05|OPERTN_3_06|OPERTN_3_07|OPERTN_3_08|OPERTN_3_09|OPERTN_3_10|OPERTN_3_11|OPERTN_3_12|OPERTN_3_13|OPERTN_3_14|OPERTN_3_15|OPERTN_3_16|OPERTN_3_17|OPERTN_3_18|OPERTN_3_19|OPERTN_3_20|OPERTN_3_21|OPERTN_3_22|OPERTN_3_23|OPERTN_3_24|    OPERTN_3_CONCAT|OPERTN_4_01|OPERTN_4_02|OPERTN_4_03|OPERTN_4_04|OPERTN_4_05|OPERTN_4_06|OPERTN_4_07|OPERTN_4_08|OPERTN_4_09|OPERTN_4_10|OPERTN_4_11|OPERTN_4_12|OPERTN_4_13|OPERTN_4_14|OPERTN_4_15|OPERTN_4_16|OPERTN_4_17|OPERTN_4_18|OPERTN_4_19|OPERTN_4_20|OPERTN_4_21|OPERTN_4_22|OPERTN_4_23|OPERTN_4_24|     OPERTN_4_CONCAT|OPERTN_COUNT|PCON| PCON_ONS|PCTCODE_HIS|PCTORIG_HIS|PCTTREAT|PROCODE3|PROCODE5|PROCODET|PURCODE|RANK_ORDER|RESCTY|RESCTY_ONS|RESGOR|RESGOR_ONS|RESLADST|RESLADST_ONS|RESPCT_HIS|RESSTHA_HIS|SEX|SITETRET|   LSOA01|   MSOA01|SPELBGIN|SPELDUR|SPELDUR_CALC|SPELEND|STARTAGE|     STARTAGE_CALC|STHATRET|SUSHRG|      SUSRECID|TRETSPEF|   LSOA11|   MSOA11|WAITLIST|        ALCNRWFRAC|ALCNRWDIAG|        ALCBRDFRAC|ALCBRDDIAG|SITEDIST|SITEDIST_FLAG|PROVDIST|PROVDIST_FLAG|HRG40|HRGLATE35|NER_GP_PRACTICE|NER_RESIDENCE|NER_TREATMENT|\n",
      "+-----+--------+------------+------------+--------------------+----------+--------+--------+----------+--------+---------+-------+--------------+------------+------------+------+------+-------+-------+---------------+-------------+------------------+-------------------------+-------------+--------------------+--------+--------------+------------+------------+---------+---------+---------+---------+---------+---------+---------+---------+---------+---------+---------+---------+---------+---------+---------+---------+---------+---------+---------+---------+--------------------+---------+---------+---------+---------+---------+---------+---------+---------+---------+---------+---------+---------+---------+---------+---------+---------+---------+---------+---------+---------+--------------------+----------+----------+-------+-------+----------+-------+------------+------+----------+--------+----------+-------+-------+------+---+-------------+---+---+--------+------+--------+------+------+-----------+-----------+-----------+-----------+-----------+-----------+-----------+-----------+-----------+-----------+-----------+-----------+-----------+-----------+-----------+-----------+-----------+-----------+-----------+-----------+-----------+-----------+-----------+-----------+-------------------+-----------+-----------+-----------+-----------+-----------+-----------+-----------+-----------+-----------+-----------+-----------+-----------+-----------+-----------+-----------+-----------+-----------+-----------+-----------+-----------+-----------+-----------+-----------+-----------+--------------------+------------+----+---------+-----------+-----------+--------+--------+--------+--------+-------+----------+------+----------+------+----------+--------+------------+----------+-----------+---+--------+---------+---------+--------+-------+------------+-------+--------+------------------+--------+------+--------------+--------+---------+---------+--------+------------------+----------+------------------+----------+--------+-------------+--------+-------------+-----+---------+---------------+-------------+-------------+\n",
      "| 2122|  202103|811282731008|998778938057|TESToBeA1ZCAwu96J...|2021-03-31|      11|       1|      null|      19|     null|   0.35|           Q47|         Q70|         Q48|   N02| Y1201|   null|   null|          M2L0M|          02E|               15A|                        1|          91Q|                   1|       2|           Y59|         Y62|         Y60|      K31|      H10|      N43|     null|     null|     null|     null|      G47|     null|     null|     null|     null|     null|     null|     null|     null|     null|     null|     null|     null|     K31,H10,N43,G47|     K315|     H109|     N433|     null|     null|     null|     null|     G473|     null|     null|     null|     null|     null|     null|     null|     null|     null|     null|     null|     null| K315,H109,N433,G473|         4|2021-06-22|     19|      8|1801-01-01|      7|         123|     2|2021-04-23|       1|2021-03-31|      3|      1|     A|  0|            0|  1|  1|       B|C85017|     810| 81937|  null|        -  |        Z27|       null|       null|       null|       null|       null|       null|       null|        X40|       null|       null|       null|       null|       null|       null|       null|       null|       null|       null|       null|       null|       null|       null|        -  ,Z27,X40|       -   |       Z272|       null|       null|       null|       null|       null|       null|       null|       X406|       null|       null|       null|       null|       null|       null|       null|       null|       null|       null|       null|       null|       null|       null|      -   ,Z272,X406|         2.0| C81|E14000990|        5A8|          1|     5PD|     RK5|   RR800|     RM1|    00Q|      null|    00| E10000011|     B| E12000006|    00FA|   E07000071|       5PP|        Q33|  2|   RD816|E01028229|E02005604|       0|      0|           2|      Y|    84.0| 83.73698630136987|     Q39| SA31C|28943001279972|     100|E01025529|E02005538|       0|               0.0|      null| 0.105489595195189|       K74|   64.36|            5|   23.89|            3| null|     null|            QUY|          QUA|          QMJ|\n",
      "| 2122|  202103|945889480421|502121115908|TESToBeA1ZCAwu96J...|2021-05-18|      2D|       1|      null|      19|     null|    0.0|           Q50|         Q33|         Q70|   N31| Y1701|   null|   null|            99A|          26A|               70F|                        1|          01E|                   1|       2|           Y63|         Y56|         Y58|      K57|      E10|      A09|      Z91|     null|     null|      D47|     null|      Z91|     null|     null|      Z85|      F32|     null|     null|     null|     null|      K42|     null|     null|K57,E10,A09,Z91,D...|     K573|     E109|     A099|     Z917|     null|     null|     D474|     null|     Z915|     null|     null|     Z858|     F329|     null|     null|     null|     null|     K429|     null|     null|K573,E109,A099,Z9...|         9|2021-06-16|     19|      1|2021-04-01|      6|           2|     0|2021-06-04|       1|2021-06-04|      3|      1|     A|  1|            1|  1|  0|       F|D83002|     300| 81937|  null|        -  |       null|       null|        G47|       null|       null|       null|       null|       null|       null|       null|       null|       null|       null|       null|       null|       null|       null|       null|       null|       null|       null|       null|       null|            -  ,G47|       -   |       null|       null|       G475|       null|       null|       null|       null|       null|       null|       null|       null|       null|       null|       null|       null|       null|       null|       null|       null|       null|       null|       null|       null|           -   ,G475|         1.0| B30|E14000613|        5M7|          1|     5PN|     RH8|   R1K00|     RN3|  W2U3Z|      null|    00| E99999999|     D| E12000008|    00BZ|   E08000025|       5QH|        Q35|  2|   RK5BC|E01012764|E02005098|       2|      0|           0|      Y|    84.0| 83.85205479452055|     Q39| SB97Z|79664521596508|     100|E01025463|E02002061|       0|               0.0|       I48| 0.141555148300401|       E11|    6.79|            5|    5.51|            3| null|     null|            QYG|          QOP|          QOP|\n",
      "| 2122|  202103|528111587051|866219613385|TESTumS1fdRDx6j7y...|2021-05-15|      24|       1|      null|      19|     I480|   0.09|             Y|         Q50|         Q49|   N30| Y0201|   null|   null|            72Q|          10Q|               00R|                        1|          00R|                   2|       1|             Y|         Y62|         Y60|      I26|      Z84|      I48|      D17|     null|      N17|     null|      D59|     null|     null|      E21|     null|      Z51|     null|     null|     null|     null|     null|     null|     null|I26,Z84,I48,D17,N...|     I269|     Z848|     I489|     D177|     null|     N179|     null|     D591|     null|     null|     E213|     null|     Z515|     null|     null|     null|     null|     null|     null|     null|I269,Z848,I489,D1...|         8|2021-05-27|     19|      1|2021-03-22|     28|           1|     0|2021-05-15|       1|2021-05-15|      3|      1|     A|  1|            0|  1|  1|       H|C82011|     100| 41931|  null|        C87|        C71|       null|       null|       null|       null|       null|       null|       null|       null|       null|       null|       null|       null|       null|       null|       null|       null|       null|       null|       null|       null|       null|       null|            C87,C71|       C871|       C712|       null|       null|       null|       null|       null|       null|       null|       null|       null|       null|       null|       null|       null|       null|       null|       null|       null|       null|       null|       null|       null|       null|           C871,C712|         2.0| D59|E14000873|        5EF|          1|     5LD|     RA9|   RQX00|     RPA|    05G|       1.0|    00| E99999999|     J| E12000006|    23UE|   E06000016|       5NL|        Q36|  2|   RR801|E01032291|E02001078|       0|      4|           2|      Y|    90.0|  90.2958904109589|     Q36| LA04R|69705113558563|     130|E01003625|E02005308|       1|               0.0|      null|  0.15397866053282|       I48|    6.23|            5|   35.88|            3| null|     null|            QKS|          QRL|          QHM|\n",
      "| 2122|  202103|912335548721|415569094112|TESTZhkl8wktpxboD...|2021-04-28|      11|       1|      null|      19|     null|    0.0|             Y|         Q46|           Y|   N39| Y1001|   null|   null|            72Q|          11J|               06L|                        1|          15N|                   1|       1|           Y63|         Y56|         Y61|      I83|      K59|      F03|     null|     null|     null|      N28|     null|     null|     null|     null|     null|     null|     null|     null|     null|     null|     null|     null|     null|     I83,K59,F03,N28|     I839|     K590|     F03X|     null|     null|     null|     N288|     null|     null|     null|     null|     null|     null|     null|     null|     null|     null|     null|     null|     null| I839,K590,F03X,N288|         4|2021-06-11|     19|      1|1801-01-01|     49|         423|     1|2021-05-19|       1|2021-05-19|      3|      1|     A|  1|            0|  1|  1|       J|P81130|     420| 91996|  null|        -  |        Y28|       null|       null|        O16|        Z92|       null|       null|       null|       null|       null|       null|       null|       null|       null|       null|       null|       null|       null|       null|       null|       null|       null|       null|    -  ,Y28,O16,Z92|       -   |       Y281|       null|       null|       O161|       Z926|       null|       null|       null|       null|       null|       null|       null|       null|       null|       null|       null|       null|       null|       null|       null|       null|       null|       null| -   ,Y281,O161,Z926|         3.0| E09|E14000827|        5PQ|          1|     5QN|     RTP|   RJ700|     RWD|  36L00|      null|    40| E10000028|     J| E12000007|    43UJ|   E07000110|       5KM|        Q36|  2|   RTRAT|E01013827|E02003717|       2|      0|           0|      Y|    25.0|24.671232876712327|     Q30| HN23C| 6131635736869|     100|E01018984|E02003681|       1|               0.0|      null| 0.105489595195189|      null|   11.32|            5|   16.03|            3| null|     null|            QJ2|          QWO|          QMJ|\n",
      "| 2122|  202103|171243392039|616693364601|TESTfJm3gvXDWqIhF...|2021-04-27|      25|       1|      null|      19|     I10X|    0.0|           Q65|         Q32|         Q70|   N31| Y1001|   null|   null|          D2P2L|          00L|               93C|                        1|          06Q|                   1|       1|           Y61|         Y60|         Y63|      N18|      K63|     null|      F12|      I10|     null|     null|      Z88|      N18|     null|     null|     null|     null|     null|     null|     null|     null|     null|     null|     null|N18,K63,F12,I10,Z...|     N185|     K635|     null|     F121|     I10X|     null|     null|     Z880|     N183|     null|     null|     null|     null|     null|     null|     null|     null|     null|     null|     null|N185,K635,F121,I1...|         6|2021-04-27|     19|      1|2020-03-16|    481|          24|     2|2021-04-27|       1|2021-04-27|      3|      1|     A|  1|            1|  1|  0|       E|A81038|     430| 91942|  null|        -  |       null|       null|       null|       null|       null|       null|       null|       null|       null|       null|       null|       null|       null|       null|       null|       null|       null|       null|       null|       null|       null|       null|       null|                -  |       -   |       null|       null|       null|       null|       null|       null|       null|       null|       null|       null|       null|       null|       null|       null|       null|       null|       null|       null|       null|       null|       null|       null|       null|                -   |        null| A01|E14000750|        5N8|          1|     5HQ|     RVW|   RTP00|     RKB|  03N00|      null|    00| E10000024|     W| E12000005|    00CQ|   E07000144|       5D9|        Q35|  1|   RJC02|E01017473|E02003263|       2|      0|           1|      Y|    79.0| 78.82739726027397|     Q31| FD10H| 5913560808514|     361|E01013736|E02002858|       0|               0.0|      null| 0.228297048262027|      null|    5.01|            5|    6.37|            3| null|     null|            QMF|          QE1|          QYG|\n",
      "| 2122|  202103|820660183697|386819365435|TESTcgimte58X0Ovp...|2021-04-26|      21|       1|      null|      19|     C184|    0.0|             Y|         Q57|           Y|   N25| Y1001|   null|   null|          A3A8R|          10R|             W2U3Z|                        1|          15M|                   1|       1|           Y63|         Y58|         Y58|      R07|     null|     null|      E11|     null|     null|     null|     null|     null|      F03|     null|     null|      Z92|     null|     null|      Z88|     null|     null|     null|     null| R07,E11,F03,Z92,Z88|     R074|     null|     null|     E119|     null|     null|     null|     null|     null|     F03X|     null|     null|     Z921|     null|     null|     Z888|     null|     null|     null|     null|R074,E119,F03X,Z9...|         5|2021-04-26|     19|      1|2021-04-16|     36|         296|     0|2021-04-26|       1|2021-04-26|      3|      1|     C|  1|            1|  1|  1|       G|M87013|     100| 51989|  null|        C86|       null|        X70|       null|       null|       null|       null|       null|       null|       null|       null|       null|       null|       null|       null|       null|       null|       null|       null|       null|       null|       null|       null|       null|            C86,X70|       C866|       null|       X708|       null|       null|       null|       null|       null|       null|       null|       null|       null|       null|       null|       null|       null|       null|       null|       null|       null|       null|       null|       null|       null|           C866,X708|         2.0| A11|E14000848|        5N6|          1|     5QJ|     RXQ|   RCX00|     R1K|  A3A8R|      null|    12| E99999999|     B| E12000003|    00BH|   E06000057|       5P5|        Q32|  2|   RA901|E01026259|E02000024|       2|      1|           5|      Y|    32.0| 32.04657534246575|     Q34| UZ01Z|30167933925636|     340|E01024135|E02005484|       1|               0.0|      null| 0.228297048262027|      null|    5.15|            5|    8.15|            3| null|     null|            QK1|            Y|          QUY|\n",
      "| 2122|  202103|158698166074|   247989141|TESTyUMBCrenkYkWh...|2021-04-01|      23|       1|      null|      19|     null|    0.3|             Y|         Q33|           Y|   N01| Y0401|   null|   null|            00P|        A3A8R|               15A|                        1|        W2U3Z|                   1|       2|           Y61|         Y56|         Y61|      M54|     null|     null|     null|      E03|     null|      I44|     null|     null|     null|     null|     null|     null|     null|     null|     null|     null|     null|     null|     null|         M54,E03,I44|     M541|     null|     null|     null|     E039|     null|     I440|     null|     null|     null|     null|     null|     null|     null|     null|     null|     null|     null|     null|     null|      M541,E039,I440|         3|2021-06-18|     19|      1|2021-04-01|     21|          39|     0|2021-04-01|       1|2021-04-01|      3|      1|     A|  1|            0|  1|  1|       H|E81004|     100| 61930|  null|        -  |       null|       null|       null|       null|       null|       null|       null|       null|       null|       null|       null|       null|       null|       null|       null|       null|       null|       null|       null|       null|       null|       null|       null|                -  |       -   |       null|       null|       null|       null|       null|       null|       null|       null|       null|       null|       null|       null|       null|       null|       null|       null|       null|       null|       null|       null|       null|       null|       null|                -   |        null| A24|E14000679|        5A9|          1|     5QJ|     RNN|   RTR00|     RNA|    05D|      null|    32| E10000016|     B| E12000009|    00EU|   E06000056|       5NX|        Q31|  1|   RVV09|E01019900|E02003339|       0|      6|           1|      Y|    91.0| 91.08219178082192|     Q36| EC10B|46354368431134|     502|E01028116|E02006311|       1|               0.0|      null|  0.15397866053282|       J18|   43.46|            5|    20.3|            3| null|     null|            QKK|          QOQ|          QT6|\n",
      "| 2122|  202103|414967881226|978949810424|TESTWU09EMkjTf3RD...|2021-04-06|      12|       1|      null|      19|     null|    0.0|           Q70|         Q59|           Y|   N37| Y0801|   null|   null|            03F|        D4U1Y|               71E|                        1|          01W|                   1|       1|           Y56|         Y62|         Y62|      C83|     null|      Z93|      Z88|      J18|     null|      K80|      Z86|      J45|     null|     null|      Z11|     null|     null|      Z86|     null|     null|     null|     null|     null|C83,Z93,Z88,J18,K...|     C830|     null|     Z934|     Z880|     J189|     null|     K805|     Z864|     J459|     null|     null|     Z115|     null|     null|     Z867|     null|     null|     null|     null|     null|C830,Z934,Z880,J1...|         9|2021-05-20|     19|      1|2021-04-06|    236|         147|     1|2021-05-16|       1|2021-04-06|      3|      1|     A|  1|            0|  1|  1|       F|K83068|     800| 61962|  null|        C73|        C71|        H22|        C90|       null|       null|        U05|       null|       null|       null|       null|       null|       null|       null|       null|       null|       null|       null|       null|       null|       null|       null|       null|       null|C73,C71,H22,C90,U05|       C733|       C712|       H229|       C908|       null|       null|       U051|       null|       null|       null|       null|       null|       null|       null|       null|       null|       null|       null|       null|       null|       null|       null|       null|       null|C733,C712,H229,C9...|         5.0| B98|E14000653|        5P5|          1|     5P5|     RDE|   R1K00|   REF-X|    05V|      null|    00|         Y|     G| E12000004|    00FN|   E06000056|       5A9|        Q32|  1|   RDU01|E01027937|E02001979|       2|      0|          40|      Y|    59.0|58.961643835616435|     Q35| AA26G|30275082669847|     320|E01029583|E02003123|       0| 0.017493289007533|      null|               0.0|      null|    2.94|            5|   12.54|            3| null|     null|            QOP|          QNC|          QWU|\n",
      "| 2122|  202103|514481606072|472728656925|TEST19kBaQ4KOYmwt...|2021-04-10|      12|       1|      null|      19|     null|    0.0|             Y|         Q64|         Q65|   N35| Y0201|   null|   null|            06N|          97R|               11X|                        1|          15F|                   1|       1|           Y61|         Y56|         Y58|      R07|      Y04|      E05|      Z86|     null|      I10|      Z88|     null|     null|     null|     null|     null|     null|     null|     null|     null|     null|     null|     null|     null|R07,Y04,E05,Z86,I...|     R074|     Y045|     E050|     Z866|     null|     I10X|     Z881|     null|     null|     null|     null|     null|     null|     null|     null|     null|     null|     null|     null|     null|R074,Y045,E050,Z8...|         6|2021-04-10|     79|      1|1801-01-01|     12|          48|     0|2021-04-10|       4|2021-04-10|      3|      1|     A|  1|            0|  1|  1|       J|J82036|     502| 31945|  null|        E24|        Z28|       null|       null|       null|       null|       null|       null|       null|       null|       null|       null|       null|       null|       null|       null|       null|       null|       null|       null|       null|       null|       null|       null|            E24,Z28|       E248|       Z286|       null|       null|       null|       null|       null|       null|       null|       null|       null|       null|       null|       null|       null|       null|       null|       null|       null|       null|       null|       null|       null|       null|           E248,Z286|         2.0| E12|E14000707|        5NM|          1|     5MV|     RCB|   RWW00|     RAX|    52R|      null|    12| E99999999|     J| W99999999|    00AK|   E06000016|       5PD|        Q37|  2|   RAPNM|E01009684|E02004552|       1|      1|           1|      Y|    76.0| 76.32328767123288|     Q34| EY31A|68069896723760|     104|E01010208|E02001446|       1|-0.073219497351557|       I24|               0.0|       I10|   47.94|         null|    7.55|            3| null|     null|            QOQ|          QMJ|          QRV|\n",
      "| 2122|  202103|471877749725|679385190150|TESTPLKVoh3oIX2Ld...|2021-04-12|      24|       1|      null|      19|     I10X|    0.0|             Y|         Q60|           Y|   N02| Y0801|   null|   null|            07H|          02M|             D9Y0V|                        1|          92G|                   1|       1|           Y60|         Y60|         Y63|      K22|      G55|      F10|      R41|      I10|      J18|      Z87|     null|     null|     null|     null|     null|     null|     null|     null|     null|     null|     null|      Z85|     null|K22,G55,F10,R41,I...|     K224|     G552|     F101|     R410|     I10X|     J189|     Z874|     null|     null|     null|     null|     null|     null|     null|     null|     null|     null|     null|     Z853|     null|K224,G552,F101,R4...|         8|2021-04-12|     19|      1|1801-01-01|     14|          23|     0|2021-04-12|       1|2021-04-12|      3|      1|     A|  1|            0|  1|  0|       H|J82164|     430| 61930|  null|        X33|        Z27|       null|       null|       null|       null|       null|       null|       null|       null|       null|       null|       null|       null|       null|       null|       null|       null|       null|       null|       null|       null|       null|       null|            X33,Z27|       X332|       Z271|       null|       null|       null|       null|       null|       null|       null|       null|       null|       null|       null|       null|       null|       null|       null|       null|       null|       null|       null|       null|       null|       null|           X332,Z271|         2.0| A09|E14000804|        5PC|          1|     5LD|     RHU|   RVJ00|     RM3|    36L|      null|    41| E10000016|     J| E12000002|    22UB|   E09000033|       5QF|          Y|  1|   RJ122|E01005961|E02005712|       2|      4|           3|      Y|    91.0| 90.98082191780821|     Q35| SA04L|44041861350490|     300|E01019595|E02002963|       1|               0.0|      null|-0.039958027551905|      null|    8.89|            5|     4.0|            3| null|     null|            QE1|          QKS|          QUE|\n",
      "| 2122|  202103|587080520874|710300983109|TESTPLKVoh3oIX2Ld...|2021-04-23|      2D|       1|      null|      19|     null|    0.0|           Q64|         Q33|         Q56|   N02| Y0201|    Y83|   W070|            11X|          52R|               99A|                        1|          52R|                   1|       1|           Y62|         Y62|         Y58|      Z38|     null|      I49|     null|     null|     null|     null|     null|     null|      K73|     null|     null|     null|     null|     null|     null|     null|     null|     null|     null|         Z38,I49,K73|     Z380|     null|     I498|     null|     null|     null|     null|     null|     null|     K739|     null|     null|     null|     null|     null|     null|     null|     null|     null|     null|      Z380,I498,K739|         3|2021-06-03|     19|      9|2021-04-23|     20|          12|     0|2021-05-08|       1|2021-05-08|      3|      1|     A|  1|            0|  1|  1|       E|E84031|     800| 61930|  null|        X38|       null|       null|       null|       null|       null|       null|       null|       null|       null|       null|       null|       null|       null|       null|       null|       null|       null|       null|       null|       null|       null|       null|       null|                X38|       X385|       null|       null|       null|       null|       null|       null|       null|       null|       null|       null|       null|       null|       null|       null|       null|       null|       null|       null|       null|       null|       null|       null|       null|                X385|         1.0| E04|E14000566|        5N2|          1|     5NL|     RAL|   RBQ00|     RTE|    27D|       1.0|    26| E99999999|     J| E12000004|    00BR|   E06000047|       5HG|        Q35|  1|   RAPNM|E01020427|E02006573|       2|      1|           3|      Y|    91.0| 90.95616438356164|     Q33| DZ17U|46112755477120|     256|E01018156|E02003633|       1|               0.0|      null| 0.163910461337026|      null|    2.32|            5|    0.88|            3| null|     null|            QMM|          QUA|          QE1|\n",
      "| 2122|  202103|232457829137|174245255558|TESTPLKVoh3oIX2Ld...|2021-04-21|      24|       1|      null|      19|     null|    0.0|             Y|         Q36|         Q59|   N20| Y0901|   null|   null|            12F|          03Q|               01G|                        1|          91Q|                   1|       1|           Y58|         Y59|         Y56|      M15|     null|      I10|      K44|     null|     null|      Z86|     null|     null|     null|     null|     null|     null|     null|     null|      Z88|     null|     null|     null|     null| M15,I10,K44,Z86,Z88|     M159|     null|     I10X|     K449|     null|     null|     Z867|     null|     null|     null|     null|     null|     null|     null|     null|     Z888|     null|     null|     null|     null|M159,I10X,K449,Z8...|         5|2021-04-21|     19|      1|1801-01-01|     10|          10|     0|2021-04-21|       1|2021-04-21|      3|      1|     A|  0|            0|  1|  0|       J|P81646|     340| 61930|  null|        X29|       null|       null|       null|       null|       null|       null|       null|       null|       null|       null|       null|       null|       null|       null|       null|       null|       null|       null|       null|       null|       null|       null|       null|                X29|       X292|       null|       null|       null|       null|       null|       null|       null|       null|       null|       null|       null|       null|       null|       null|       null|       null|       null|       null|       null|       null|       null|       null|       null|                X292|         1.0| E43|E14000892|        5PQ|          1|     5QA|     RVW|   RC900|     RTG|  A3A8R|      null|    00| E99999999|     E| E12000005|    00BN|   E06000050|       5NY|        Q37|  1|   RP5DR|E01016314|E02005365|       2|      0|           0|      Y|    91.0| 91.10958904109589|     Q31| HT42A|24325041868971|     560|E01024697|E02003385|       0|               0.0|       C50|               0.0|      null|   16.85|            5|    3.87|            3| null|     null|            QHM|          QKS|          QR1|\n",
      "| 2122|  202103|627753738543|994657432354|TESTuQ6FZf1aCWmHI...|2021-04-01|      31|       1|      null|      19|     I10X|    0.0|           Q56|         Q33|         Q47|   N30| Y1201|   null|   null|            36L|          10Q|               11J|                        1|          02H|                   1|       1|           Y60|         Y56|         Y58|      C79|      Z85|      F84|      H35|     null|      E78|     null|      Z89|     null|     null|     null|     null|     null|     null|     null|     null|     null|     null|     null|     null|C79,Z85,F84,H35,E...|     C793|     Z853|     F841|     H353|     null|     E780|     null|     Z894|     null|     null|     null|     null|     null|     null|     null|     null|     null|     null|     null|     null|C793,Z853,F841,H3...|         6|2021-05-08|     19|      1|1800-01-01|     10|         192|     0|2021-04-01|       1|2021-04-01|      3|      1|     S|  1|            0|  1|  1|       E|P81040|     420| 42011|  null|        X33|        Z28|       null|       null|       null|       null|       null|       null|       null|        T12|       null|       null|       null|       null|       null|       null|       null|       null|       null|       null|       null|       null|       null|       null|        X33,Z28,T12|       X332|       Z282|       null|       null|       null|       null|       null|       null|       null|       T124|       null|       null|       null|       null|       null|       null|       null|       null|       null|       null|       null|       null|       null|       null|      X332,Z282,T124|         3.0| C56|E14000719|        5A4|          1|     5FL|     RVY|   RJ600|   RRK-X|  A3A8R|       1.0|    00| E99999999|     D| E12000006|    00MG|   E06000030|       5K8|        Q37|  2|   RWH01|E01015470|E02005546|       0|      0|           6|      Y|    10.0|10.210958904109589|     Q31| LB40G|70172412861553|     301|E01005683|E02002616|       0|               0.0|      null| 0.127189685934682|      null|    10.2|            5|    3.95|            3| null|     null|            QNX|          QWO|          QJM|\n",
      "| 2122|  202103|275528897878|369402044062|TESTZYgAq9sxrKUT6...|2021-04-23|      11|       1|      null|      19|     I10X|    0.0|             Y|         Q33|         Q56|   N36| Y0801|   null|   null|            78H|          36J|               11X|                        1|          18C|                   1|       1|           Y56|         Y61|         Y62|      J98|      J22|     null|      W19|     null|      I73|     null|     null|     null|     null|     null|     null|     null|      K57|     null|     null|     null|     null|     null|     null| J98,J22,W19,I73,K57|     J980|     J22X|     null|     W190|     null|     I739|     null|     null|     null|     null|     null|     null|     null|     K573|     null|     null|     null|     null|     null|     null|J980,J22X,W190,I7...|         5|2021-05-25|     19|      1|2021-04-23|      3|         380|     0|2021-04-23|       1|2021-04-23|      3|      1|     A|  1|            0|  1|  1|       K|F81067|     420| 81959|  null|        -  |        Z29|        Z90|       null|       null|       null|       null|       null|       null|       null|       null|       null|       null|       null|       null|       null|       null|       null|       null|       null|       null|       null|       null|       null|        -  ,Z29,Z90|       -   |       Z291|       Z905|       null|       null|       null|       null|       null|       null|       null|       null|       null|       null|       null|       null|       null|       null|       null|       null|       null|       null|       null|       null|       null|      -   ,Z291,Z905|         2.0| D90|E14000876|        5K3|          1|     5N2|     RTH|   RNZ00|     RF4|    93C|       2.0|    00| E99999999|     A| E12000002|       Y|   E06000037|       5F1|        Q38|  2|   RDU01|E01007206|E02006067|       2|      0|           3|      Y|    62.0| 61.79178082191781|     Q39| JC42A|30385070806831|     800|E01017102|E02004594|       1|               0.0|      null|-0.016579270090229|       I48|    2.82|            5|   22.93|            3| null|     null|            QKK|          QJK|          QHM|\n",
      "| 2122|  202103|421564843553|740972848881|TESTtNwTWUrNf4aWF...|2021-04-20|      21|       1|      null|      19|     null|   0.34|             Y|         Q34|           Y|   N28| Y0801|   null|   null|            36J|          07G|               99A|                        1|        D2P2L|                   1|       1|           Y60|         Y58|         Y61|      H25|      K29|     null|      L30|     null|     null|     null|     null|     null|     null|     null|     null|     null|     null|     null|     null|     null|     null|     null|     null|         H25,K29,L30|     H251|     K297|     null|     L309|     null|     null|     null|     null|     null|     null|     null|     null|     null|     null|     null|     null|     null|     null|     null|     null|      H251,K297,L309|         3|2021-06-02|     19|      1|1801-01-01|    211|          21|     0|2021-04-20|       1|2021-04-20|      3|      1|     A|  0|            1|  1|  1|       J|P92019|     420| 51976|  null|        Q07|       null|       null|       null|       null|       null|       null|       null|       null|       null|       null|       null|       null|       null|       null|       null|       null|       null|       null|       null|       null|       null|       null|       null|                Q07|       Q074|       null|       null|       null|       null|       null|       null|       null|       null|       null|       null|       null|       null|       null|       null|       null|       null|       null|       null|       null|       null|       null|       null|       null|                Q074|         1.0| C42|E14000762|        5ND|          1|     5PL|     R0A|   RJ100|     RDE|  D9Y0V|      null|    00| E99999999|     G| E12000007|    00HG|   E06000004|       5M7|        Q30|  2|   RHQNG|E01012015|E02006410|       2|      0|          37|      Y|    45.0| 45.07397260273972|     Q36| NZ30C|60471211691467|     300|E01021325|E02004258|       0| 0.626023810985531|       I21|               0.0|       I10|    5.26|            5|    4.78|            3| null|     null|            QNC|          QJG|          QUA|\n",
      "| 2122|  202103|540135141048|669737025574|TESTtNwTWUrNf4aWF...|2021-05-11|      82|       1|      null|      19|     null|    0.0|             Y|         Q49|           Y|   N07| Y0401|   null|   null|            15N|          52R|               91Q|                        1|          02P|                   1|       2|           Y59|         Y60|         Y62|      R54|     null|      F32|     null|     null|      I95|      F17|      Z90|      I10|      Z90|     null|     null|     null|     null|     null|     null|     null|     null|     null|     null|R54,F32,I95,F17,Z...|     R54X|     null|     F329|     null|     null|     I951|     F171|     Z908|     I10X|     Z904|     null|     null|     null|     null|     null|     null|     null|     null|     null|     null|R54X,F329,I951,F1...|         7|2021-05-11|     19|      1|1801-01-01|      1|          23|     4|2021-05-11|       1|2021-05-11|      3|      1|     A|  1|            1|  1|  1|       H|M84029|     340| 51976|  null|        -  |        Z27|        Y98|       null|        A73|       null|       null|       null|        K61|       null|       null|       null|       null|       null|       null|       null|       null|       null|       null|       null|       null|       null|       null|       null|-  ,Z27,Y98,A73,K61|       -   |       Z272|       Y981|       null|       A735|       null|       null|       null|       K614|       null|       null|       null|       null|       null|       null|       null|       null|       null|       null|       null|       null|       null|       null|       null|-   ,Z272,Y981,A7...|         4.0| A07|E14000638|        5QV|          1|     5F7|     RHQ|   RXP00|     RFF|    10E|      null|    24| E10000024|     F|         Y|    37UC|   E07000010|       5NG|        Q32|  2|   RXC02|E01030084|E02006273|       2|      0|           0|      N|    45.0| 45.06575342465754|     Q36| KC04B| 5103110233582|     191|E01013506|E02003079|       0|               0.0|      null| 0.150720958853529|       I10|     1.6|            5|     3.4|            3| null|     null|            QNC|          QNC|          QOP|\n",
      "| 2122|  202103|557803583581|175218930569|TESTTliRHizQvVlcl...|2021-04-27|      13|       1|      null|      79|     null|    0.0|             Y|         Q58|           Y|   N21| Y1001|    W01|   null|            05Q|          03R|             D9Y0V|                        1|          00R|                   1|       2|           Y60|         Y56|         Y59|      K70|      M75|      H18|      K76|     null|     null|      F40|      I50|      I10|      E11|     null|     null|     null|     null|     null|     null|     null|     null|     null|     null|K70,M75,H18,K76,F...|     K703|     M750|     H184|     K766|     null|     null|     F402|     I509|     I10X|     E119|     null|     null|     null|     null|     null|     null|     null|     null|     null|     null|K703,M750,H184,K7...|         8|2021-06-01|     19|      1|2021-04-27|    232|         411|     0|2021-05-19|       1|2021-05-19|      3|      1|     M|  1|            0|  0|  1|       B|B84012|     100| 21953|  null|        U05|        X72|       null|        Y70|       null|       null|       null|       null|       null|       null|       null|       null|       null|       null|       null|       null|       null|       null|       null|       null|       null|       null|       null|       null|        U05,X72,Y70|       U051|       X729|       null|       Y701|       null|       null|       null|       null|       null|       null|       null|       null|       null|       null|       null|       null|       null|       null|       null|       null|       null|       null|       null|       null|      U051,X729,Y701|         3.0| D03|E14000885|        5C4|          1|     5QQ|     RDU|   RTH00|   RVJ-X|  04Y00|      null|    37| E99999999|     B| E12000006|    00DA|   E09000005|       5PA|        Q36|  2|   RRK99|E01010312|E02001961|       2|      0|           0|      Y|    68.0| 68.27945205479452|     Q31| FE21Z|41503972927975|     424|E01009605|E02001450|       0|               0.0|      null| 0.354494336173945|       I10|     2.5|            5|    2.04|            3| null|     null|            QWE|          QKS|          QHG|\n",
      "| 2122|  202103|740624346479|973951377805|TESTac96GuOzWKvX3...|1801-01-01|      13|       1|      null|      19|     I489|    0.0|             Y|         Q57|           Y|   N06| Y0801|   null|   null|            36J|          11X|               15E|                        1|          00L|                   1|       1|           Y61|         Y60|         Y59|      S82|      W19|     null|      E87|     null|      Z95|     null|     null|     null|     null|     null|     null|     null|     null|     null|     null|     null|     null|     null|     null|     S82,W19,E87,Z95|     S822|     W191|     null|     E877|     null|     Z955|     null|     null|     null|     null|     null|     null|     null|     null|     null|     null|     null|     null|     null|     null| S822,W191,E877,Z955|         4|1801-01-01|     19|      1|1801-01-01|      3|         507|     0|1801-01-01|       1|1801-01-01|      3|      2|     A|  1|            0|  1|  1|       D|B81109|     810| 11800|  null|        U21|        Y53|       null|       null|       null|       null|       null|       null|       null|       null|       null|       null|       null|       null|       null|       null|       null|       null|       null|       null|       null|       null|       null|       null|            U21,Y53|       U211|       Y532|       null|       null|       null|       null|       null|       null|       null|       null|       null|       null|       null|       null|       null|       null|       null|       null|       null|       null|       null|       null|       null|       null|           U211,Y532|         2.0| A01|E14000992|        5MD|          1|     5M1|     RM1|   NT310|     RTP|  02E00|      null|    24| E99999999|     F| E12000006|    00HB|   E08000001|       5QQ|        Q36|  2|    null|E01000099|E02004607|       2|      1|           3|      Y|   120.0|             120.0|     Q38| FF53A|10405237455696|     370|E01006035|E02001787|       0|               0.0|       W18| 0.228297048262027|      null|   10.26|            5|   23.66|            3| null|     null|            QWO|          QT6|          QJ2|\n",
      "| 2122|  202103|119875068238|679632320653|TEST7Jo1bL1eOiJ3J...|2021-04-07|      13|       1|      null|      19|     null|    0.0|             Y|         Q56|           Y|   N01| Y0301|   null|   null|            00N|          91Q|             M1J4Y|                        1|          07H|                   1|       1|           Y58|         Y62|         Y62|      R51|      Z38|     null|      E78|     null|     null|      M48|     null|     null|     null|      E78|      R32|     null|     null|     null|     null|     null|     null|     null|     null|R51,Z38,E78,M48,E...|     R51X|     Z380|     null|     E785|     null|     null|     M480|     null|     null|     null|     E780|     R32X|     null|     null|     null|     null|     null|     null|     null|     null|R51X,Z380,E785,M4...|         6|      null|     98|      1|2021-04-07|     21|         110|     1|2021-04-07|       1|2021-04-07|      3|      1|     E|  1|            0|  1|  0|       K|N83024|     501|121941|  null|        U20|        C71|       null|       null|       null|       null|       null|       null|       null|       null|       null|       null|       null|       null|       null|       null|       null|       null|       null|       null|       null|       null|       null|       null|            U20,C71|       U201|       C712|       null|       null|       null|       null|       null|       null|       null|       null|       null|       null|       null|       null|       null|       null|       null|       null|       null|       null|       null|       null|       null|       null|           U201,C712|         2.0| D98|E14000858|        5QL|          1|     5L1|     RWY|   RA700|     RWE|    13T|      null|    00| E99999999|     F| E12000004|       Y|   E08000035|       5NG|        Q32|  1|   RAE01|E01007602|E02004845|       2|      1|           0|      Y|    79.0| 79.47397260273972|     Q32| MB09F|21533038607776|     130|E01021358|E02001436|       0|               0.0|      null|               0.0|       I48|    1.33|            5|   14.52|            3| null|     null|            QUE|          QHM|          QVV|\n",
      "| 2122|  202103|465987185720|367155616933|TESToLlfNiBVHrIru...|2021-04-09|      13|       1|      null|      19|     I10X|    0.0|           Q46|         Q51|           Y|   N32| Y0801|    Y88|   null|            03N|          05W|               91Q|                        1|        B2M3M|                   1|       1|           Y59|         Y63|         Y58|      Z38|      E11|     null|      O72|      X60|     null|      C16|     null|      F41|     null|      I34|     null|     null|     null|     null|     null|     null|     null|     null|     null|Z38,E11,O72,X60,C...|     Z380|     E119|     null|     O721|     X609|     null|     C169|     null|     F419|     null|     I340|     null|     null|     null|     null|     null|     null|     null|     null|     null|Z380,E119,O721,X6...|         7|2021-06-07|     19|      1|1800-01-01|    447|          29|     0|2021-04-09|       1|2021-04-09|      3|      1|     A|  1|            0|  1|  1|       B|H82063|     110| 21964|  null|        X40|       null|        F14|        X72|       null|       null|       null|       null|       null|       null|       null|       null|       null|       null|       null|       null|       null|       null|       null|       null|       null|       null|       null|       null|        X40,F14,X72|       X403|       null|       F146|       X722|       null|       null|       null|       null|       null|       null|       null|       null|       null|       null|       null|       null|       null|       null|       null|       null|       null|       null|       null|       null|      X403,F146,X722|         3.0| F07|E14000931|        5AT|          1|     5N6|     RAJ|   REM00|     REN|    03K|      null|    30| E99999999|     H| E12000009|    00EB|   E07000045|       5C1|        Q36|  2|   NVC31|E01018257|E02000303|       2|      0|           0|      Y|    57.0| 57.36986301369863|     Q31| UZ01Z|11756358995120|     300|E01006314|E02000049|       0|               0.0|      null|               0.0|       I10|    5.42|         null|    3.36|            3| null|     null|            QJM|          QRV|          QPM|\n",
      "+-----+--------+------------+------------+--------------------+----------+--------+--------+----------+--------+---------+-------+--------------+------------+------------+------+------+-------+-------+---------------+-------------+------------------+-------------------------+-------------+--------------------+--------+--------------+------------+------------+---------+---------+---------+---------+---------+---------+---------+---------+---------+---------+---------+---------+---------+---------+---------+---------+---------+---------+---------+---------+--------------------+---------+---------+---------+---------+---------+---------+---------+---------+---------+---------+---------+---------+---------+---------+---------+---------+---------+---------+---------+---------+--------------------+----------+----------+-------+-------+----------+-------+------------+------+----------+--------+----------+-------+-------+------+---+-------------+---+---+--------+------+--------+------+------+-----------+-----------+-----------+-----------+-----------+-----------+-----------+-----------+-----------+-----------+-----------+-----------+-----------+-----------+-----------+-----------+-----------+-----------+-----------+-----------+-----------+-----------+-----------+-----------+-------------------+-----------+-----------+-----------+-----------+-----------+-----------+-----------+-----------+-----------+-----------+-----------+-----------+-----------+-----------+-----------+-----------+-----------+-----------+-----------+-----------+-----------+-----------+-----------+-----------+--------------------+------------+----+---------+-----------+-----------+--------+--------+--------+--------+-------+----------+------+----------+------+----------+--------+------------+----------+-----------+---+--------+---------+---------+--------+-------+------------+-------+--------+------------------+--------+------+--------------+--------+---------+---------+--------+------------------+----------+------------------+----------+--------+-------------+--------+-------------+-----+---------+---------------+-------------+-------------+\n",
      "only showing top 20 rows\n",
      "\n"
     ]
    }
   ],
   "source": [
    "df.show()"
   ]
  },
  {
   "cell_type": "markdown",
   "metadata": {},
   "source": [
    "# Issues\n",
    "* `display()` doesn't work?"
   ]
  }
 ],
 "metadata": {
  "kernelspec": {
   "display_name": "Python 3",
   "language": "python",
   "name": "python3"
  },
  "language_info": {
   "codemirror_mode": {
    "name": "ipython",
    "version": 3
   },
   "file_extension": ".py",
   "mimetype": "text/x-python",
   "name": "python",
   "nbconvert_exporter": "python",
   "pygments_lexer": "ipython3",
   "version": "3.10.8"
  },
  "orig_nbformat": 4
 },
 "nbformat": 4,
 "nbformat_minor": 2
}
